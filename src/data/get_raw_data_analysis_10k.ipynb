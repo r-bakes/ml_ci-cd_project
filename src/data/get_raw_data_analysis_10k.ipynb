{
 "cells": [
  {
   "cell_type": "code",
   "execution_count": null,
   "id": "74525d7f-e2e8-4e55-b3c7-8b8315265f13",
   "metadata": {
    "collapsed": false,
    "gradient": {
     "editing": true,
     "id": "74525d7f-e2e8-4e55-b3c7-8b8315265f13",
     "kernelId": "0967136b-3480-4d31-b435-9dbd440b0455",
     "source_hidden": false
    }
   },
   "outputs": [
    {
     "data": {
      "text/plain": [
       "True"
      ]
     },
     "execution_count": 1,
     "metadata": {},
     "output_type": "execute_result"
    }
   ],
   "source": [
    "import spotipy\n",
    "from spotipy.oauth2 import SpotifyClientCredentials\n",
    "\n",
    "import pandas as pd\n",
    "\n",
    "import os \n",
    "import requests\n",
    "from dotenv import load_dotenv\n",
    "load_dotenv()                                                                                                                                                                                                                                                                                                                                                                                                                                                                                                                                                                                                                                                                                                                                                                                                                                                                                                                                                                                                                                                                                                                                                                                                                                                                                                                                                                                                                                                                                                                                                                                                                                                                                                                                                                                                                                                                                                                                                                                                                                                                                                                                                                                                                                                                                                                                                                                                                                                                                                                                                                                                                                                                                                                                                                                                                                                                                                                                                                                                                                                                                                                                                                                                                                                                                                                                                                                                                                                                                                                                                                                                                                                                                                                                                                                                                                                                                                                                                                                                                                                                                                                                                                                                                                                                                                                                                                                                                                                                                                                                                                                                                                                                                                                                                                                                                                                                                                                                                                                                                                                                                                                                                                                                                                                                                                                                                                                                                                                                                                                                                                                                                                                                                                                                                                                                                                                                                                                                                                                                                                                                                                                                                                                                                                                                                                                                                                                                                                                                                                                                                                                                                                                                                                                                                                                                                                                                                                                                                                                                                                                                                                                                                                                                                                                                                                                                                                                                                                                                                                                                                                                                                                                                                                                                                                                                                                                                                         "
   ]
  },
  {
   "cell_type": "code",
   "execution_count": null,
   "id": "1f69ba35-56a4-431e-82af-c041aac3c50a",
   "metadata": {
    "collapsed": false,
    "gradient": {
     "editing": false,
     "id": "1f69ba35-56a4-431e-82af-c041aac3c50a",
     "kernelId": "0967136b-3480-4d31-b435-9dbd440b0455",
     "source_hidden": false
    }
   },
   "outputs": [],
   "source": [
    "auth_manager = SpotifyClientCredentials()\n",
    "sp = spotipy.Spotify(auth_manager=auth_manager)"
   ]
  },
  {
   "cell_type": "code",
   "execution_count": null,
   "id": "77ed021c-d0b9-4f7f-b943-d5af81237bfa",
   "metadata": {
    "collapsed": false,
    "gradient": {
     "editing": false,
     "id": "77ed021c-d0b9-4f7f-b943-d5af81237bfa",
     "kernelId": "0967136b-3480-4d31-b435-9dbd440b0455",
     "source_hidden": false
    }
   },
   "outputs": [],
   "source": [
    "top_ten_genres = (\r\n",
    "    \"pop\",\r\n",
    "    \"hip-hop\",\r\n",
    "    \"edm\", # house\r\n",
    "    \"rock\",\r\n",
    "    \"r-n-b\",\r\n",
    "    \"indie\",\r\n",
    "    \"k-pop\",\r\n",
    "    \"country\",\r\n",
    "    \"latin\",\r\n",
    "    \"classical\",\r\n",
    "    \"metal\"\r\n",
    ")\r\n",
    "for genre in top_ten_genres:\r\n",
    "    assert genre in sp.recommendation_genre_seeds()[\"genres\"]"
   ]
  },
  {
   "cell_type": "code",
   "execution_count": null,
   "id": "84598238-2b0a-4bb3-8b9b-3ed35fde59f1",
   "metadata": {
    "collapsed": false,
    "gradient": {
     "editing": false,
     "id": "84598238-2b0a-4bb3-8b9b-3ed35fde59f1",
     "kernelId": "0967136b-3480-4d31-b435-9dbd440b0455",
     "source_hidden": false
    }
   },
   "outputs": [
    {
     "name": "stdout",
     "output_type": "stream",
     "text": [
      "\n",
      "\n",
      "Starting Genre:\tpop\t\tgenre:pop\n"
     ]
    },
    {
     "name": "stdout",
     "output_type": "stream",
     "text": [
      "\n",
      "\n",
      "Starting Genre:\thip-hop\t\tgenre:hip-hop\n"
     ]
    },
    {
     "name": "stdout",
     "output_type": "stream",
     "text": [
      "\n",
      "\n",
      "Starting Genre:\tedm\t\tgenre:edm\n"
     ]
    },
    {
     "name": "stdout",
     "output_type": "stream",
     "text": [
      "\n",
      "\n",
      "Starting Genre:\trock\t\tgenre:rock\n"
     ]
    },
    {
     "name": "stdout",
     "output_type": "stream",
     "text": [
      "\n",
      "\n",
      "Starting Genre:\tr-n-b\t\tgenre:r-n-b\n"
     ]
    },
    {
     "name": "stdout",
     "output_type": "stream",
     "text": [
      "\n",
      "\n",
      "Starting Genre:\tindie\t\tgenre:indie\n"
     ]
    },
    {
     "name": "stdout",
     "output_type": "stream",
     "text": [
      "\n",
      "\n",
      "Starting Genre:\tk-pop\t\tgenre:k-pop\n"
     ]
    },
    {
     "name": "stdout",
     "output_type": "stream",
     "text": [
      "\n",
      "\n",
      "Starting Genre:\tcountry\t\tgenre:country\n"
     ]
    },
    {
     "name": "stdout",
     "output_type": "stream",
     "text": [
      "\n",
      "\n",
      "Starting Genre:\tlatin\t\tgenre:latin\n"
     ]
    },
    {
     "name": "stdout",
     "output_type": "stream",
     "text": [
      "\n",
      "\n",
      "Starting Genre:\tclassical\t\tgenre:classical\n"
     ]
    },
    {
     "name": "stdout",
     "output_type": "stream",
     "text": [
      "\n",
      "\n",
      "Starting Genre:\tmetal\t\tgenre:metal\n"
     ]
    }
   ],
   "source": [
    "artist_name = []\r\n",
    "track_name = []\r\n",
    "duration_ms = []\r\n",
    "popularity = []\r\n",
    "release_date = []\r\n",
    "genres = []\r\n",
    "uris = []\r\n",
    "\r\n",
    "\r\n",
    "for genre in top_ten_genres:\r\n",
    "    offset = 0\r\n",
    "    q = f\"genre:{genre}\"\r\n",
    "\r\n",
    "    print(f\"\\n\\nStarting Genre:\\t{genre}\\t\\t{q}\")\r\n",
    "\r\n",
    "    while offset < 1000:\r\n",
    "    \r\n",
    "        results = sp.search(\r\n",
    "            q=q,\r\n",
    "            limit=50,\r\n",
    "            offset=offset,\r\n",
    "            type=\"track\")\r\n",
    "        \r\n",
    "        for result in results['tracks']['items']:\r\n",
    "\r\n",
    "            artist_name.append(result['artists'][0]['name'])\r\n",
    "            track_name.append(result['name'])\r\n",
    "            duration_ms.append(result['duration_ms'])\r\n",
    "            popularity.append(result['popularity'])\r\n",
    "            release_date.append(result['album']['release_date'])\r\n",
    "            genres.append(genre)\r\n",
    "            uris.append(result['uri'])\r\n",
    "\r\n",
    "        offset += 50"
   ]
  },
  {
   "cell_type": "code",
   "execution_count": null,
   "id": "4827f133-b55b-4115-8f81-7fdabcc12062",
   "metadata": {
    "collapsed": false,
    "gradient": {
     "editing": false,
     "id": "4827f133-b55b-4115-8f81-7fdabcc12062",
     "kernelId": "0967136b-3480-4d31-b435-9dbd440b0455",
     "source_hidden": false
    }
   },
   "outputs": [
    {
     "name": "stdout",
     "output_type": "stream",
     "text": [
      "Percent Complete:\t0.0%\n",
      "\n"
     ]
    },
    {
     "name": "stdout",
     "output_type": "stream",
     "text": [
      "Percent Complete:\t0.91%\n",
      "\n"
     ]
    },
    {
     "name": "stdout",
     "output_type": "stream",
     "text": [
      "Percent Complete:\t1.82%\n",
      "\n"
     ]
    },
    {
     "name": "stdout",
     "output_type": "stream",
     "text": [
      "Percent Complete:\t2.73%\n",
      "\n"
     ]
    },
    {
     "name": "stdout",
     "output_type": "stream",
     "text": [
      "Percent Complete:\t3.64%\n",
      "\n"
     ]
    },
    {
     "name": "stdout",
     "output_type": "stream",
     "text": [
      "Percent Complete:\t4.55%\n",
      "\n"
     ]
    },
    {
     "name": "stdout",
     "output_type": "stream",
     "text": [
      "Percent Complete:\t5.45%\n",
      "\n"
     ]
    },
    {
     "name": "stdout",
     "output_type": "stream",
     "text": [
      "Percent Complete:\t6.36%\n",
      "\n"
     ]
    },
    {
     "name": "stdout",
     "output_type": "stream",
     "text": [
      "Percent Complete:\t7.27%\n",
      "\n"
     ]
    },
    {
     "name": "stdout",
     "output_type": "stream",
     "text": [
      "Percent Complete:\t8.18%\n",
      "\n"
     ]
    },
    {
     "name": "stdout",
     "output_type": "stream",
     "text": [
      "Percent Complete:\t9.09%\n",
      "\n"
     ]
    },
    {
     "name": "stdout",
     "output_type": "stream",
     "text": [
      "Percent Complete:\t10.0%\n",
      "\n"
     ]
    },
    {
     "name": "stdout",
     "output_type": "stream",
     "text": [
      "Percent Complete:\t10.91%\n",
      "\n"
     ]
    },
    {
     "name": "stdout",
     "output_type": "stream",
     "text": [
      "Percent Complete:\t11.82%\n",
      "\n"
     ]
    },
    {
     "name": "stdout",
     "output_type": "stream",
     "text": [
      "Percent Complete:\t12.73%\n",
      "\n"
     ]
    },
    {
     "name": "stdout",
     "output_type": "stream",
     "text": [
      "Percent Complete:\t13.64%\n",
      "\n"
     ]
    },
    {
     "name": "stdout",
     "output_type": "stream",
     "text": [
      "Percent Complete:\t14.55%\n",
      "\n"
     ]
    },
    {
     "name": "stdout",
     "output_type": "stream",
     "text": [
      "Percent Complete:\t15.45%\n",
      "\n"
     ]
    },
    {
     "name": "stdout",
     "output_type": "stream",
     "text": [
      "Percent Complete:\t16.36%\n",
      "\n"
     ]
    },
    {
     "name": "stdout",
     "output_type": "stream",
     "text": [
      "Percent Complete:\t17.27%\n",
      "\n"
     ]
    },
    {
     "name": "stdout",
     "output_type": "stream",
     "text": [
      "Percent Complete:\t18.18%\n",
      "\n"
     ]
    },
    {
     "name": "stdout",
     "output_type": "stream",
     "text": [
      "Percent Complete:\t19.09%\n",
      "\n"
     ]
    },
    {
     "name": "stdout",
     "output_type": "stream",
     "text": [
      "Percent Complete:\t20.0%\n",
      "\n"
     ]
    },
    {
     "name": "stdout",
     "output_type": "stream",
     "text": [
      "Percent Complete:\t20.91%\n",
      "\n"
     ]
    },
    {
     "name": "stdout",
     "output_type": "stream",
     "text": [
      "Percent Complete:\t21.82%\n",
      "\n"
     ]
    },
    {
     "name": "stdout",
     "output_type": "stream",
     "text": [
      "Percent Complete:\t22.73%\n",
      "\n"
     ]
    },
    {
     "name": "stdout",
     "output_type": "stream",
     "text": [
      "Percent Complete:\t23.64%\n",
      "\n"
     ]
    },
    {
     "name": "stdout",
     "output_type": "stream",
     "text": [
      "Percent Complete:\t24.55%\n",
      "\n"
     ]
    },
    {
     "name": "stdout",
     "output_type": "stream",
     "text": [
      "Percent Complete:\t25.45%\n",
      "\n"
     ]
    },
    {
     "name": "stdout",
     "output_type": "stream",
     "text": [
      "Percent Complete:\t26.36%\n",
      "\n"
     ]
    },
    {
     "name": "stdout",
     "output_type": "stream",
     "text": [
      "Percent Complete:\t27.27%\n",
      "\n"
     ]
    },
    {
     "name": "stdout",
     "output_type": "stream",
     "text": [
      "Percent Complete:\t28.18%\n",
      "\n"
     ]
    },
    {
     "name": "stdout",
     "output_type": "stream",
     "text": [
      "Percent Complete:\t29.09%\n",
      "\n"
     ]
    },
    {
     "name": "stdout",
     "output_type": "stream",
     "text": [
      "Percent Complete:\t30.0%\n",
      "\n"
     ]
    },
    {
     "name": "stdout",
     "output_type": "stream",
     "text": [
      "Percent Complete:\t30.91%\n",
      "\n"
     ]
    },
    {
     "name": "stdout",
     "output_type": "stream",
     "text": [
      "Percent Complete:\t31.82%\n",
      "\n"
     ]
    },
    {
     "name": "stdout",
     "output_type": "stream",
     "text": [
      "Percent Complete:\t32.73%\n",
      "\n"
     ]
    },
    {
     "name": "stdout",
     "output_type": "stream",
     "text": [
      "Percent Complete:\t33.64%\n",
      "\n"
     ]
    },
    {
     "name": "stdout",
     "output_type": "stream",
     "text": [
      "Percent Complete:\t34.55%\n",
      "\n"
     ]
    },
    {
     "name": "stdout",
     "output_type": "stream",
     "text": [
      "Percent Complete:\t35.45%\n",
      "\n"
     ]
    },
    {
     "ename": "ReadTimeout",
     "evalue": "HTTPSConnectionPool(host='api.spotify.com', port=443): Read timed out. (read timeout=5)",
     "output_type": "error",
     "traceback": [
      "\u001b[0;31m---------------------------------------------------------------------------\u001b[0m",
      "\u001b[0;31mtimeout\u001b[0m                                   Traceback (most recent call last)",
      "\u001b[0;32m/usr/local/lib/python3.8/dist-packages/urllib3/connectionpool.py\u001b[0m in \u001b[0;36m_make_request\u001b[0;34m(self, conn, method, url, timeout, chunked, **httplib_request_kw)\u001b[0m\n\u001b[1;32m    444\u001b[0m                     \u001b[0;31m# Otherwise it looks like a bug in the code.\u001b[0m\u001b[0;34m\u001b[0m\u001b[0;34m\u001b[0m\u001b[0;34m\u001b[0m\u001b[0m\n\u001b[0;32m--> 445\u001b[0;31m                     \u001b[0msix\u001b[0m\u001b[0;34m.\u001b[0m\u001b[0mraise_from\u001b[0m\u001b[0;34m(\u001b[0m\u001b[0me\u001b[0m\u001b[0;34m,\u001b[0m \u001b[0;32mNone\u001b[0m\u001b[0;34m)\u001b[0m\u001b[0;34m\u001b[0m\u001b[0;34m\u001b[0m\u001b[0m\n\u001b[0m\u001b[1;32m    446\u001b[0m         \u001b[0;32mexcept\u001b[0m \u001b[0;34m(\u001b[0m\u001b[0mSocketTimeout\u001b[0m\u001b[0;34m,\u001b[0m \u001b[0mBaseSSLError\u001b[0m\u001b[0;34m,\u001b[0m \u001b[0mSocketError\u001b[0m\u001b[0;34m)\u001b[0m \u001b[0;32mas\u001b[0m \u001b[0me\u001b[0m\u001b[0;34m:\u001b[0m\u001b[0;34m\u001b[0m\u001b[0;34m\u001b[0m\u001b[0m\n",
      "\u001b[0;32m/usr/local/lib/python3.8/dist-packages/urllib3/packages/six.py\u001b[0m in \u001b[0;36mraise_from\u001b[0;34m(value, from_value)\u001b[0m\n",
      "\u001b[0;32m/usr/local/lib/python3.8/dist-packages/urllib3/connectionpool.py\u001b[0m in \u001b[0;36m_make_request\u001b[0;34m(self, conn, method, url, timeout, chunked, **httplib_request_kw)\u001b[0m\n\u001b[1;32m    439\u001b[0m                 \u001b[0;32mtry\u001b[0m\u001b[0;34m:\u001b[0m\u001b[0;34m\u001b[0m\u001b[0;34m\u001b[0m\u001b[0m\n\u001b[0;32m--> 440\u001b[0;31m                     \u001b[0mhttplib_response\u001b[0m \u001b[0;34m=\u001b[0m \u001b[0mconn\u001b[0m\u001b[0;34m.\u001b[0m\u001b[0mgetresponse\u001b[0m\u001b[0;34m(\u001b[0m\u001b[0;34m)\u001b[0m\u001b[0;34m\u001b[0m\u001b[0;34m\u001b[0m\u001b[0m\n\u001b[0m\u001b[1;32m    441\u001b[0m                 \u001b[0;32mexcept\u001b[0m \u001b[0mBaseException\u001b[0m \u001b[0;32mas\u001b[0m \u001b[0me\u001b[0m\u001b[0;34m:\u001b[0m\u001b[0;34m\u001b[0m\u001b[0;34m\u001b[0m\u001b[0m\n",
      "\u001b[0;32m/usr/lib/python3.8/http/client.py\u001b[0m in \u001b[0;36mgetresponse\u001b[0;34m(self)\u001b[0m\n\u001b[1;32m   1343\u001b[0m             \u001b[0;32mtry\u001b[0m\u001b[0;34m:\u001b[0m\u001b[0;34m\u001b[0m\u001b[0;34m\u001b[0m\u001b[0m\n\u001b[0;32m-> 1344\u001b[0;31m                 \u001b[0mresponse\u001b[0m\u001b[0;34m.\u001b[0m\u001b[0mbegin\u001b[0m\u001b[0;34m(\u001b[0m\u001b[0;34m)\u001b[0m\u001b[0;34m\u001b[0m\u001b[0;34m\u001b[0m\u001b[0m\n\u001b[0m\u001b[1;32m   1345\u001b[0m             \u001b[0;32mexcept\u001b[0m \u001b[0mConnectionError\u001b[0m\u001b[0;34m:\u001b[0m\u001b[0;34m\u001b[0m\u001b[0;34m\u001b[0m\u001b[0m\n",
      "\u001b[0;32m/usr/lib/python3.8/http/client.py\u001b[0m in \u001b[0;36mbegin\u001b[0;34m(self)\u001b[0m\n\u001b[1;32m    306\u001b[0m         \u001b[0;32mwhile\u001b[0m \u001b[0;32mTrue\u001b[0m\u001b[0;34m:\u001b[0m\u001b[0;34m\u001b[0m\u001b[0;34m\u001b[0m\u001b[0m\n\u001b[0;32m--> 307\u001b[0;31m             \u001b[0mversion\u001b[0m\u001b[0;34m,\u001b[0m \u001b[0mstatus\u001b[0m\u001b[0;34m,\u001b[0m \u001b[0mreason\u001b[0m \u001b[0;34m=\u001b[0m \u001b[0mself\u001b[0m\u001b[0;34m.\u001b[0m\u001b[0m_read_status\u001b[0m\u001b[0;34m(\u001b[0m\u001b[0;34m)\u001b[0m\u001b[0;34m\u001b[0m\u001b[0;34m\u001b[0m\u001b[0m\n\u001b[0m\u001b[1;32m    308\u001b[0m             \u001b[0;32mif\u001b[0m \u001b[0mstatus\u001b[0m \u001b[0;34m!=\u001b[0m \u001b[0mCONTINUE\u001b[0m\u001b[0;34m:\u001b[0m\u001b[0;34m\u001b[0m\u001b[0;34m\u001b[0m\u001b[0m\n",
      "\u001b[0;32m/usr/lib/python3.8/http/client.py\u001b[0m in \u001b[0;36m_read_status\u001b[0;34m(self)\u001b[0m\n\u001b[1;32m    267\u001b[0m     \u001b[0;32mdef\u001b[0m \u001b[0m_read_status\u001b[0m\u001b[0;34m(\u001b[0m\u001b[0mself\u001b[0m\u001b[0;34m)\u001b[0m\u001b[0;34m:\u001b[0m\u001b[0;34m\u001b[0m\u001b[0;34m\u001b[0m\u001b[0m\n\u001b[0;32m--> 268\u001b[0;31m         \u001b[0mline\u001b[0m \u001b[0;34m=\u001b[0m \u001b[0mstr\u001b[0m\u001b[0;34m(\u001b[0m\u001b[0mself\u001b[0m\u001b[0;34m.\u001b[0m\u001b[0mfp\u001b[0m\u001b[0;34m.\u001b[0m\u001b[0mreadline\u001b[0m\u001b[0;34m(\u001b[0m\u001b[0m_MAXLINE\u001b[0m \u001b[0;34m+\u001b[0m \u001b[0;36m1\u001b[0m\u001b[0;34m)\u001b[0m\u001b[0;34m,\u001b[0m \u001b[0;34m\"iso-8859-1\"\u001b[0m\u001b[0;34m)\u001b[0m\u001b[0;34m\u001b[0m\u001b[0;34m\u001b[0m\u001b[0m\n\u001b[0m\u001b[1;32m    269\u001b[0m         \u001b[0;32mif\u001b[0m \u001b[0mlen\u001b[0m\u001b[0;34m(\u001b[0m\u001b[0mline\u001b[0m\u001b[0;34m)\u001b[0m \u001b[0;34m>\u001b[0m \u001b[0m_MAXLINE\u001b[0m\u001b[0;34m:\u001b[0m\u001b[0;34m\u001b[0m\u001b[0;34m\u001b[0m\u001b[0m\n",
      "\u001b[0;32m/usr/lib/python3.8/socket.py\u001b[0m in \u001b[0;36mreadinto\u001b[0;34m(self, b)\u001b[0m\n\u001b[1;32m    668\u001b[0m             \u001b[0;32mtry\u001b[0m\u001b[0;34m:\u001b[0m\u001b[0;34m\u001b[0m\u001b[0;34m\u001b[0m\u001b[0m\n\u001b[0;32m--> 669\u001b[0;31m                 \u001b[0;32mreturn\u001b[0m \u001b[0mself\u001b[0m\u001b[0;34m.\u001b[0m\u001b[0m_sock\u001b[0m\u001b[0;34m.\u001b[0m\u001b[0mrecv_into\u001b[0m\u001b[0;34m(\u001b[0m\u001b[0mb\u001b[0m\u001b[0;34m)\u001b[0m\u001b[0;34m\u001b[0m\u001b[0;34m\u001b[0m\u001b[0m\n\u001b[0m\u001b[1;32m    670\u001b[0m             \u001b[0;32mexcept\u001b[0m \u001b[0mtimeout\u001b[0m\u001b[0;34m:\u001b[0m\u001b[0;34m\u001b[0m\u001b[0;34m\u001b[0m\u001b[0m\n",
      "\u001b[0;32m/usr/lib/python3.8/ssl.py\u001b[0m in \u001b[0;36mrecv_into\u001b[0;34m(self, buffer, nbytes, flags)\u001b[0m\n\u001b[1;32m   1240\u001b[0m                   self.__class__)\n\u001b[0;32m-> 1241\u001b[0;31m             \u001b[0;32mreturn\u001b[0m \u001b[0mself\u001b[0m\u001b[0;34m.\u001b[0m\u001b[0mread\u001b[0m\u001b[0;34m(\u001b[0m\u001b[0mnbytes\u001b[0m\u001b[0;34m,\u001b[0m \u001b[0mbuffer\u001b[0m\u001b[0;34m)\u001b[0m\u001b[0;34m\u001b[0m\u001b[0;34m\u001b[0m\u001b[0m\n\u001b[0m\u001b[1;32m   1242\u001b[0m         \u001b[0;32melse\u001b[0m\u001b[0;34m:\u001b[0m\u001b[0;34m\u001b[0m\u001b[0;34m\u001b[0m\u001b[0m\n",
      "\u001b[0;32m/usr/lib/python3.8/ssl.py\u001b[0m in \u001b[0;36mread\u001b[0;34m(self, len, buffer)\u001b[0m\n\u001b[1;32m   1098\u001b[0m             \u001b[0;32mif\u001b[0m \u001b[0mbuffer\u001b[0m \u001b[0;32mis\u001b[0m \u001b[0;32mnot\u001b[0m \u001b[0;32mNone\u001b[0m\u001b[0;34m:\u001b[0m\u001b[0;34m\u001b[0m\u001b[0;34m\u001b[0m\u001b[0m\n\u001b[0;32m-> 1099\u001b[0;31m                 \u001b[0;32mreturn\u001b[0m \u001b[0mself\u001b[0m\u001b[0;34m.\u001b[0m\u001b[0m_sslobj\u001b[0m\u001b[0;34m.\u001b[0m\u001b[0mread\u001b[0m\u001b[0;34m(\u001b[0m\u001b[0mlen\u001b[0m\u001b[0;34m,\u001b[0m \u001b[0mbuffer\u001b[0m\u001b[0;34m)\u001b[0m\u001b[0;34m\u001b[0m\u001b[0;34m\u001b[0m\u001b[0m\n\u001b[0m\u001b[1;32m   1100\u001b[0m             \u001b[0;32melse\u001b[0m\u001b[0;34m:\u001b[0m\u001b[0;34m\u001b[0m\u001b[0;34m\u001b[0m\u001b[0m\n",
      "\u001b[0;31mtimeout\u001b[0m: The read operation timed out",
      "\nDuring handling of the above exception, another exception occurred:\n",
      "\u001b[0;31mReadTimeoutError\u001b[0m                          Traceback (most recent call last)",
      "\u001b[0;32m/usr/local/lib/python3.8/dist-packages/requests/adapters.py\u001b[0m in \u001b[0;36msend\u001b[0;34m(self, request, stream, timeout, verify, cert, proxies)\u001b[0m\n\u001b[1;32m    438\u001b[0m             \u001b[0;32mif\u001b[0m \u001b[0;32mnot\u001b[0m \u001b[0mchunked\u001b[0m\u001b[0;34m:\u001b[0m\u001b[0;34m\u001b[0m\u001b[0;34m\u001b[0m\u001b[0m\n\u001b[0;32m--> 439\u001b[0;31m                 resp = conn.urlopen(\n\u001b[0m\u001b[1;32m    440\u001b[0m                     \u001b[0mmethod\u001b[0m\u001b[0;34m=\u001b[0m\u001b[0mrequest\u001b[0m\u001b[0;34m.\u001b[0m\u001b[0mmethod\u001b[0m\u001b[0;34m,\u001b[0m\u001b[0;34m\u001b[0m\u001b[0;34m\u001b[0m\u001b[0m\n",
      "\u001b[0;32m/usr/local/lib/python3.8/dist-packages/urllib3/connectionpool.py\u001b[0m in \u001b[0;36murlopen\u001b[0;34m(self, method, url, body, headers, retries, redirect, assert_same_host, timeout, pool_timeout, release_conn, chunked, body_pos, **response_kw)\u001b[0m\n\u001b[1;32m    754\u001b[0m \u001b[0;34m\u001b[0m\u001b[0m\n\u001b[0;32m--> 755\u001b[0;31m             retries = retries.increment(\n\u001b[0m\u001b[1;32m    756\u001b[0m                 \u001b[0mmethod\u001b[0m\u001b[0;34m,\u001b[0m \u001b[0murl\u001b[0m\u001b[0;34m,\u001b[0m \u001b[0merror\u001b[0m\u001b[0;34m=\u001b[0m\u001b[0me\u001b[0m\u001b[0;34m,\u001b[0m \u001b[0m_pool\u001b[0m\u001b[0;34m=\u001b[0m\u001b[0mself\u001b[0m\u001b[0;34m,\u001b[0m \u001b[0m_stacktrace\u001b[0m\u001b[0;34m=\u001b[0m\u001b[0msys\u001b[0m\u001b[0;34m.\u001b[0m\u001b[0mexc_info\u001b[0m\u001b[0;34m(\u001b[0m\u001b[0;34m)\u001b[0m\u001b[0;34m[\u001b[0m\u001b[0;36m2\u001b[0m\u001b[0;34m]\u001b[0m\u001b[0;34m\u001b[0m\u001b[0;34m\u001b[0m\u001b[0m\n",
      "\u001b[0;32m/usr/local/lib/python3.8/dist-packages/urllib3/util/retry.py\u001b[0m in \u001b[0;36mincrement\u001b[0;34m(self, method, url, response, error, _pool, _stacktrace)\u001b[0m\n\u001b[1;32m    531\u001b[0m             \u001b[0;32mif\u001b[0m \u001b[0mread\u001b[0m \u001b[0;32mis\u001b[0m \u001b[0;32mFalse\u001b[0m \u001b[0;32mor\u001b[0m \u001b[0;32mnot\u001b[0m \u001b[0mself\u001b[0m\u001b[0;34m.\u001b[0m\u001b[0m_is_method_retryable\u001b[0m\u001b[0;34m(\u001b[0m\u001b[0mmethod\u001b[0m\u001b[0;34m)\u001b[0m\u001b[0;34m:\u001b[0m\u001b[0;34m\u001b[0m\u001b[0;34m\u001b[0m\u001b[0m\n\u001b[0;32m--> 532\u001b[0;31m                 \u001b[0;32mraise\u001b[0m \u001b[0msix\u001b[0m\u001b[0;34m.\u001b[0m\u001b[0mreraise\u001b[0m\u001b[0;34m(\u001b[0m\u001b[0mtype\u001b[0m\u001b[0;34m(\u001b[0m\u001b[0merror\u001b[0m\u001b[0;34m)\u001b[0m\u001b[0;34m,\u001b[0m \u001b[0merror\u001b[0m\u001b[0;34m,\u001b[0m \u001b[0m_stacktrace\u001b[0m\u001b[0;34m)\u001b[0m\u001b[0;34m\u001b[0m\u001b[0;34m\u001b[0m\u001b[0m\n\u001b[0m\u001b[1;32m    533\u001b[0m             \u001b[0;32melif\u001b[0m \u001b[0mread\u001b[0m \u001b[0;32mis\u001b[0m \u001b[0;32mnot\u001b[0m \u001b[0;32mNone\u001b[0m\u001b[0;34m:\u001b[0m\u001b[0;34m\u001b[0m\u001b[0;34m\u001b[0m\u001b[0m\n",
      "\u001b[0;32m/usr/local/lib/python3.8/dist-packages/urllib3/packages/six.py\u001b[0m in \u001b[0;36mreraise\u001b[0;34m(tp, value, tb)\u001b[0m\n\u001b[1;32m    769\u001b[0m                 \u001b[0;32mraise\u001b[0m \u001b[0mvalue\u001b[0m\u001b[0;34m.\u001b[0m\u001b[0mwith_traceback\u001b[0m\u001b[0;34m(\u001b[0m\u001b[0mtb\u001b[0m\u001b[0;34m)\u001b[0m\u001b[0;34m\u001b[0m\u001b[0;34m\u001b[0m\u001b[0m\n\u001b[0;32m--> 770\u001b[0;31m             \u001b[0;32mraise\u001b[0m \u001b[0mvalue\u001b[0m\u001b[0;34m\u001b[0m\u001b[0;34m\u001b[0m\u001b[0m\n\u001b[0m\u001b[1;32m    771\u001b[0m         \u001b[0;32mfinally\u001b[0m\u001b[0;34m:\u001b[0m\u001b[0;34m\u001b[0m\u001b[0;34m\u001b[0m\u001b[0m\n",
      "\u001b[0;32m/usr/local/lib/python3.8/dist-packages/urllib3/connectionpool.py\u001b[0m in \u001b[0;36murlopen\u001b[0;34m(self, method, url, body, headers, retries, redirect, assert_same_host, timeout, pool_timeout, release_conn, chunked, body_pos, **response_kw)\u001b[0m\n\u001b[1;32m    698\u001b[0m             \u001b[0;31m# Make the request on the httplib connection object.\u001b[0m\u001b[0;34m\u001b[0m\u001b[0;34m\u001b[0m\u001b[0;34m\u001b[0m\u001b[0m\n\u001b[0;32m--> 699\u001b[0;31m             httplib_response = self._make_request(\n\u001b[0m\u001b[1;32m    700\u001b[0m                 \u001b[0mconn\u001b[0m\u001b[0;34m,\u001b[0m\u001b[0;34m\u001b[0m\u001b[0;34m\u001b[0m\u001b[0m\n",
      "\u001b[0;32m/usr/local/lib/python3.8/dist-packages/urllib3/connectionpool.py\u001b[0m in \u001b[0;36m_make_request\u001b[0;34m(self, conn, method, url, timeout, chunked, **httplib_request_kw)\u001b[0m\n\u001b[1;32m    446\u001b[0m         \u001b[0;32mexcept\u001b[0m \u001b[0;34m(\u001b[0m\u001b[0mSocketTimeout\u001b[0m\u001b[0;34m,\u001b[0m \u001b[0mBaseSSLError\u001b[0m\u001b[0;34m,\u001b[0m \u001b[0mSocketError\u001b[0m\u001b[0;34m)\u001b[0m \u001b[0;32mas\u001b[0m \u001b[0me\u001b[0m\u001b[0;34m:\u001b[0m\u001b[0;34m\u001b[0m\u001b[0;34m\u001b[0m\u001b[0m\n\u001b[0;32m--> 447\u001b[0;31m             \u001b[0mself\u001b[0m\u001b[0;34m.\u001b[0m\u001b[0m_raise_timeout\u001b[0m\u001b[0;34m(\u001b[0m\u001b[0merr\u001b[0m\u001b[0;34m=\u001b[0m\u001b[0me\u001b[0m\u001b[0;34m,\u001b[0m \u001b[0murl\u001b[0m\u001b[0;34m=\u001b[0m\u001b[0murl\u001b[0m\u001b[0;34m,\u001b[0m \u001b[0mtimeout_value\u001b[0m\u001b[0;34m=\u001b[0m\u001b[0mread_timeout\u001b[0m\u001b[0;34m)\u001b[0m\u001b[0;34m\u001b[0m\u001b[0;34m\u001b[0m\u001b[0m\n\u001b[0m\u001b[1;32m    448\u001b[0m             \u001b[0;32mraise\u001b[0m\u001b[0;34m\u001b[0m\u001b[0;34m\u001b[0m\u001b[0m\n",
      "\u001b[0;32m/usr/local/lib/python3.8/dist-packages/urllib3/connectionpool.py\u001b[0m in \u001b[0;36m_raise_timeout\u001b[0;34m(self, err, url, timeout_value)\u001b[0m\n\u001b[1;32m    335\u001b[0m         \u001b[0;32mif\u001b[0m \u001b[0misinstance\u001b[0m\u001b[0;34m(\u001b[0m\u001b[0merr\u001b[0m\u001b[0;34m,\u001b[0m \u001b[0mSocketTimeout\u001b[0m\u001b[0;34m)\u001b[0m\u001b[0;34m:\u001b[0m\u001b[0;34m\u001b[0m\u001b[0;34m\u001b[0m\u001b[0m\n\u001b[0;32m--> 336\u001b[0;31m             raise ReadTimeoutError(\n\u001b[0m\u001b[1;32m    337\u001b[0m                 \u001b[0mself\u001b[0m\u001b[0;34m,\u001b[0m \u001b[0murl\u001b[0m\u001b[0;34m,\u001b[0m \u001b[0;34m\"Read timed out. (read timeout=%s)\"\u001b[0m \u001b[0;34m%\u001b[0m \u001b[0mtimeout_value\u001b[0m\u001b[0;34m\u001b[0m\u001b[0;34m\u001b[0m\u001b[0m\n",
      "\u001b[0;31mReadTimeoutError\u001b[0m: HTTPSConnectionPool(host='api.spotify.com', port=443): Read timed out. (read timeout=5)",
      "\nDuring handling of the above exception, another exception occurred:\n",
      "\u001b[0;31mReadTimeout\u001b[0m                               Traceback (most recent call last)",
      "\u001b[0;32m/tmp/ipykernel_53/3791974076.py\u001b[0m in \u001b[0;36m<module>\u001b[0;34m\u001b[0m\n\u001b[1;32m      8\u001b[0m \u001b[0;32mfor\u001b[0m \u001b[0mi\u001b[0m\u001b[0;34m,\u001b[0m \u001b[0muri\u001b[0m \u001b[0;32min\u001b[0m \u001b[0menumerate\u001b[0m\u001b[0;34m(\u001b[0m\u001b[0muris\u001b[0m\u001b[0;34m)\u001b[0m\u001b[0;34m:\u001b[0m\u001b[0;34m\u001b[0m\u001b[0;34m\u001b[0m\u001b[0m\n\u001b[1;32m      9\u001b[0m \u001b[0;34m\u001b[0m\u001b[0m\n\u001b[0;32m---> 10\u001b[0;31m     \u001b[0mresults\u001b[0m \u001b[0;34m=\u001b[0m \u001b[0msp\u001b[0m\u001b[0;34m.\u001b[0m\u001b[0maudio_analysis\u001b[0m\u001b[0;34m(\u001b[0m\u001b[0mtrack_id\u001b[0m\u001b[0;34m=\u001b[0m\u001b[0muri\u001b[0m\u001b[0;34m)\u001b[0m\u001b[0;34m\u001b[0m\u001b[0;34m\u001b[0m\u001b[0m\n\u001b[0m\u001b[1;32m     11\u001b[0m \u001b[0;34m\u001b[0m\u001b[0m\n\u001b[1;32m     12\u001b[0m     \u001b[0mtrack\u001b[0m\u001b[0;34m.\u001b[0m\u001b[0mappend\u001b[0m\u001b[0;34m(\u001b[0m\u001b[0mresults\u001b[0m\u001b[0;34m[\u001b[0m\u001b[0;34m'track'\u001b[0m\u001b[0;34m]\u001b[0m\u001b[0;34m)\u001b[0m\u001b[0;34m\u001b[0m\u001b[0;34m\u001b[0m\u001b[0m\n",
      "\u001b[0;32m/usr/local/lib/python3.8/dist-packages/spotipy/client.py\u001b[0m in \u001b[0;36maudio_analysis\u001b[0;34m(self, track_id)\u001b[0m\n\u001b[1;32m   1669\u001b[0m         \"\"\"\n\u001b[1;32m   1670\u001b[0m         \u001b[0mtrid\u001b[0m \u001b[0;34m=\u001b[0m \u001b[0mself\u001b[0m\u001b[0;34m.\u001b[0m\u001b[0m_get_id\u001b[0m\u001b[0;34m(\u001b[0m\u001b[0;34m\"track\"\u001b[0m\u001b[0;34m,\u001b[0m \u001b[0mtrack_id\u001b[0m\u001b[0;34m)\u001b[0m\u001b[0;34m\u001b[0m\u001b[0;34m\u001b[0m\u001b[0m\n\u001b[0;32m-> 1671\u001b[0;31m         \u001b[0;32mreturn\u001b[0m \u001b[0mself\u001b[0m\u001b[0;34m.\u001b[0m\u001b[0m_get\u001b[0m\u001b[0;34m(\u001b[0m\u001b[0;34m\"audio-analysis/\"\u001b[0m \u001b[0;34m+\u001b[0m \u001b[0mtrid\u001b[0m\u001b[0;34m)\u001b[0m\u001b[0;34m\u001b[0m\u001b[0;34m\u001b[0m\u001b[0m\n\u001b[0m\u001b[1;32m   1672\u001b[0m \u001b[0;34m\u001b[0m\u001b[0m\n\u001b[1;32m   1673\u001b[0m     \u001b[0;32mdef\u001b[0m \u001b[0maudio_features\u001b[0m\u001b[0;34m(\u001b[0m\u001b[0mself\u001b[0m\u001b[0;34m,\u001b[0m \u001b[0mtracks\u001b[0m\u001b[0;34m=\u001b[0m\u001b[0;34m[\u001b[0m\u001b[0;34m]\u001b[0m\u001b[0;34m)\u001b[0m\u001b[0;34m:\u001b[0m\u001b[0;34m\u001b[0m\u001b[0;34m\u001b[0m\u001b[0m\n",
      "\u001b[0;32m/usr/local/lib/python3.8/dist-packages/spotipy/client.py\u001b[0m in \u001b[0;36m_get\u001b[0;34m(self, url, args, payload, **kwargs)\u001b[0m\n\u001b[1;32m    295\u001b[0m             \u001b[0mkwargs\u001b[0m\u001b[0;34m.\u001b[0m\u001b[0mupdate\u001b[0m\u001b[0;34m(\u001b[0m\u001b[0margs\u001b[0m\u001b[0;34m)\u001b[0m\u001b[0;34m\u001b[0m\u001b[0;34m\u001b[0m\u001b[0m\n\u001b[1;32m    296\u001b[0m \u001b[0;34m\u001b[0m\u001b[0m\n\u001b[0;32m--> 297\u001b[0;31m         \u001b[0;32mreturn\u001b[0m \u001b[0mself\u001b[0m\u001b[0;34m.\u001b[0m\u001b[0m_internal_call\u001b[0m\u001b[0;34m(\u001b[0m\u001b[0;34m\"GET\"\u001b[0m\u001b[0;34m,\u001b[0m \u001b[0murl\u001b[0m\u001b[0;34m,\u001b[0m \u001b[0mpayload\u001b[0m\u001b[0;34m,\u001b[0m \u001b[0mkwargs\u001b[0m\u001b[0;34m)\u001b[0m\u001b[0;34m\u001b[0m\u001b[0;34m\u001b[0m\u001b[0m\n\u001b[0m\u001b[1;32m    298\u001b[0m \u001b[0;34m\u001b[0m\u001b[0m\n\u001b[1;32m    299\u001b[0m     \u001b[0;32mdef\u001b[0m \u001b[0m_post\u001b[0m\u001b[0;34m(\u001b[0m\u001b[0mself\u001b[0m\u001b[0;34m,\u001b[0m \u001b[0murl\u001b[0m\u001b[0;34m,\u001b[0m \u001b[0margs\u001b[0m\u001b[0;34m=\u001b[0m\u001b[0;32mNone\u001b[0m\u001b[0;34m,\u001b[0m \u001b[0mpayload\u001b[0m\u001b[0;34m=\u001b[0m\u001b[0;32mNone\u001b[0m\u001b[0;34m,\u001b[0m \u001b[0;34m**\u001b[0m\u001b[0mkwargs\u001b[0m\u001b[0;34m)\u001b[0m\u001b[0;34m:\u001b[0m\u001b[0;34m\u001b[0m\u001b[0;34m\u001b[0m\u001b[0m\n",
      "\u001b[0;32m/usr/local/lib/python3.8/dist-packages/spotipy/client.py\u001b[0m in \u001b[0;36m_internal_call\u001b[0;34m(self, method, url, payload, params)\u001b[0m\n\u001b[1;32m    238\u001b[0m \u001b[0;34m\u001b[0m\u001b[0m\n\u001b[1;32m    239\u001b[0m         \u001b[0;32mtry\u001b[0m\u001b[0;34m:\u001b[0m\u001b[0;34m\u001b[0m\u001b[0;34m\u001b[0m\u001b[0m\n\u001b[0;32m--> 240\u001b[0;31m             response = self._session.request(\n\u001b[0m\u001b[1;32m    241\u001b[0m                 \u001b[0mmethod\u001b[0m\u001b[0;34m,\u001b[0m \u001b[0murl\u001b[0m\u001b[0;34m,\u001b[0m \u001b[0mheaders\u001b[0m\u001b[0;34m=\u001b[0m\u001b[0mheaders\u001b[0m\u001b[0;34m,\u001b[0m \u001b[0mproxies\u001b[0m\u001b[0;34m=\u001b[0m\u001b[0mself\u001b[0m\u001b[0;34m.\u001b[0m\u001b[0mproxies\u001b[0m\u001b[0;34m,\u001b[0m\u001b[0;34m\u001b[0m\u001b[0;34m\u001b[0m\u001b[0m\n\u001b[1;32m    242\u001b[0m                 \u001b[0mtimeout\u001b[0m\u001b[0;34m=\u001b[0m\u001b[0mself\u001b[0m\u001b[0;34m.\u001b[0m\u001b[0mrequests_timeout\u001b[0m\u001b[0;34m,\u001b[0m \u001b[0;34m**\u001b[0m\u001b[0margs\u001b[0m\u001b[0;34m\u001b[0m\u001b[0;34m\u001b[0m\u001b[0m\n",
      "\u001b[0;32m/usr/local/lib/python3.8/dist-packages/requests/sessions.py\u001b[0m in \u001b[0;36mrequest\u001b[0;34m(self, method, url, params, data, headers, cookies, files, auth, timeout, allow_redirects, proxies, hooks, stream, verify, cert, json)\u001b[0m\n\u001b[1;32m    540\u001b[0m         }\n\u001b[1;32m    541\u001b[0m         \u001b[0msend_kwargs\u001b[0m\u001b[0;34m.\u001b[0m\u001b[0mupdate\u001b[0m\u001b[0;34m(\u001b[0m\u001b[0msettings\u001b[0m\u001b[0;34m)\u001b[0m\u001b[0;34m\u001b[0m\u001b[0;34m\u001b[0m\u001b[0m\n\u001b[0;32m--> 542\u001b[0;31m         \u001b[0mresp\u001b[0m \u001b[0;34m=\u001b[0m \u001b[0mself\u001b[0m\u001b[0;34m.\u001b[0m\u001b[0msend\u001b[0m\u001b[0;34m(\u001b[0m\u001b[0mprep\u001b[0m\u001b[0;34m,\u001b[0m \u001b[0;34m**\u001b[0m\u001b[0msend_kwargs\u001b[0m\u001b[0;34m)\u001b[0m\u001b[0;34m\u001b[0m\u001b[0;34m\u001b[0m\u001b[0m\n\u001b[0m\u001b[1;32m    543\u001b[0m \u001b[0;34m\u001b[0m\u001b[0m\n\u001b[1;32m    544\u001b[0m         \u001b[0;32mreturn\u001b[0m \u001b[0mresp\u001b[0m\u001b[0;34m\u001b[0m\u001b[0;34m\u001b[0m\u001b[0m\n",
      "\u001b[0;32m/usr/local/lib/python3.8/dist-packages/requests/sessions.py\u001b[0m in \u001b[0;36msend\u001b[0;34m(self, request, **kwargs)\u001b[0m\n\u001b[1;32m    653\u001b[0m \u001b[0;34m\u001b[0m\u001b[0m\n\u001b[1;32m    654\u001b[0m         \u001b[0;31m# Send the request\u001b[0m\u001b[0;34m\u001b[0m\u001b[0;34m\u001b[0m\u001b[0;34m\u001b[0m\u001b[0m\n\u001b[0;32m--> 655\u001b[0;31m         \u001b[0mr\u001b[0m \u001b[0;34m=\u001b[0m \u001b[0madapter\u001b[0m\u001b[0;34m.\u001b[0m\u001b[0msend\u001b[0m\u001b[0;34m(\u001b[0m\u001b[0mrequest\u001b[0m\u001b[0;34m,\u001b[0m \u001b[0;34m**\u001b[0m\u001b[0mkwargs\u001b[0m\u001b[0;34m)\u001b[0m\u001b[0;34m\u001b[0m\u001b[0;34m\u001b[0m\u001b[0m\n\u001b[0m\u001b[1;32m    656\u001b[0m \u001b[0;34m\u001b[0m\u001b[0m\n\u001b[1;32m    657\u001b[0m         \u001b[0;31m# Total elapsed time of the request (approximately)\u001b[0m\u001b[0;34m\u001b[0m\u001b[0;34m\u001b[0m\u001b[0;34m\u001b[0m\u001b[0m\n",
      "\u001b[0;32m/usr/local/lib/python3.8/dist-packages/requests/adapters.py\u001b[0m in \u001b[0;36msend\u001b[0;34m(self, request, stream, timeout, verify, cert, proxies)\u001b[0m\n\u001b[1;32m    527\u001b[0m                 \u001b[0;32mraise\u001b[0m \u001b[0mSSLError\u001b[0m\u001b[0;34m(\u001b[0m\u001b[0me\u001b[0m\u001b[0;34m,\u001b[0m \u001b[0mrequest\u001b[0m\u001b[0;34m=\u001b[0m\u001b[0mrequest\u001b[0m\u001b[0;34m)\u001b[0m\u001b[0;34m\u001b[0m\u001b[0;34m\u001b[0m\u001b[0m\n\u001b[1;32m    528\u001b[0m             \u001b[0;32melif\u001b[0m \u001b[0misinstance\u001b[0m\u001b[0;34m(\u001b[0m\u001b[0me\u001b[0m\u001b[0;34m,\u001b[0m \u001b[0mReadTimeoutError\u001b[0m\u001b[0;34m)\u001b[0m\u001b[0;34m:\u001b[0m\u001b[0;34m\u001b[0m\u001b[0;34m\u001b[0m\u001b[0m\n\u001b[0;32m--> 529\u001b[0;31m                 \u001b[0;32mraise\u001b[0m \u001b[0mReadTimeout\u001b[0m\u001b[0;34m(\u001b[0m\u001b[0me\u001b[0m\u001b[0;34m,\u001b[0m \u001b[0mrequest\u001b[0m\u001b[0;34m=\u001b[0m\u001b[0mrequest\u001b[0m\u001b[0;34m)\u001b[0m\u001b[0;34m\u001b[0m\u001b[0;34m\u001b[0m\u001b[0m\n\u001b[0m\u001b[1;32m    530\u001b[0m             \u001b[0;32melse\u001b[0m\u001b[0;34m:\u001b[0m\u001b[0;34m\u001b[0m\u001b[0;34m\u001b[0m\u001b[0m\n\u001b[1;32m    531\u001b[0m                 \u001b[0;32mraise\u001b[0m\u001b[0;34m\u001b[0m\u001b[0;34m\u001b[0m\u001b[0m\n",
      "\u001b[0;31mReadTimeout\u001b[0m: HTTPSConnectionPool(host='api.spotify.com', port=443): Read timed out. (read timeout=5)"
     ]
    }
   ],
   "source": [
    "track = []\r\n",
    "bars = []\r\n",
    "beats = []\r\n",
    "sections = []\r\n",
    "segments = []\r\n",
    "tatums = []\r\n",
    "\r\n",
    "for i, uri in enumerate(uris):\r\n",
    "    \r\n",
    "    results = sp.audio_analysis(track_id=uri)\r\n",
    "\r\n",
    "    track.append(results['track'])\r\n",
    "    bars.append(results['bars'])\r\n",
    "    beats.append(results['beats'])\r\n",
    "    sections.append(results['sections'])\r\n",
    "    segments.append(results['segments'])\r\n",
    "    tatums.append(results['tatums'])\r\n",
    "\r\n",
    "    if i % 100 == 0: \r\n",
    "        print(f\"Percent Complete:\\t{round((i/len(uris)) * 100, 2)}%\\n\")\r\n",
    "   "
   ]
  },
  {
   "cell_type": "code",
   "execution_count": null,
   "id": "b25855ca-6e86-489d-bac0-52788cdb2ded",
   "metadata": {
    "collapsed": false,
    "gradient": {
     "editing": false,
     "id": "b25855ca-6e86-489d-bac0-52788cdb2ded",
     "kernelId": "0967136b-3480-4d31-b435-9dbd440b0455",
     "source_hidden": false
    }
   },
   "outputs": [
    {
     "data": {
      "text/plain": [
       "11000"
      ]
     },
     "execution_count": 16,
     "metadata": {},
     "output_type": "execute_result"
    }
   ],
   "source": [
    "len( track + [None]*(len(uris) - len(track)))"
   ]
  },
  {
   "cell_type": "code",
   "execution_count": null,
   "id": "06916a69-4851-4899-bdba-75c9931b0126",
   "metadata": {
    "collapsed": false,
    "gradient": {
     "editing": false,
     "id": "06916a69-4851-4899-bdba-75c9931b0126",
     "kernelId": "0967136b-3480-4d31-b435-9dbd440b0455",
     "source_hidden": false
    }
   },
   "outputs": [],
   "source": [
    "df = pd.DataFrame({\r\n",
    "    'artist_name': artist_name,\r\n",
    "    'track_name': track_name,\r\n",
    "    'duration_ms': duration_ms,\r\n",
    "    'popularity': popularity,\r\n",
    "    'release_date': release_date,\r\n",
    "    'genre': genres,\r\n",
    "    'uri': uris,\r\n",
    "    'track': track + [None]*(len(uris) - len(track)),\r\n",
    "    'bars': bars + [None]*(len(uris) - len(track)),\r\n",
    "    'beats': beats + [None]*(len(uris) - len(track)),\r\n",
    "    'sections': sections + [None]*(len(uris) - len(track)),\r\n",
    "    'segments': segments + [None]*(len(uris) - len(track)),\r\n",
    "    'tatums': tatums + [None]*(len(uris) - len(track))\r\n",
    "})"
   ]
  },
  {
   "cell_type": "code",
   "execution_count": null,
   "id": "d0cdced4-9071-4d53-96f2-e8a7e3ce8be1",
   "metadata": {
    "collapsed": false,
    "gradient": {
     "editing": false,
     "id": "d0cdced4-9071-4d53-96f2-e8a7e3ce8be1",
     "kernelId": "0967136b-3480-4d31-b435-9dbd440b0455",
     "source_hidden": false
    }
   },
   "outputs": [],
   "source": []
  },
  {
   "cell_type": "code",
   "execution_count": null,
   "id": "ab78f729-4c0b-4623-a9dc-c182d0d9798e",
   "metadata": {
    "collapsed": false,
    "gradient": {
     "editing": false,
     "id": "ab78f729-4c0b-4623-a9dc-c182d0d9798e",
     "kernelId": "0967136b-3480-4d31-b435-9dbd440b0455",
     "source_hidden": false
    }
   },
   "outputs": [
    {
     "ename": "AttributeError",
     "evalue": "'NoneType' object has no attribute 'to_csv'",
     "output_type": "error",
     "traceback": [
      "\u001b[0;31m---------------------------------------------------------------------------\u001b[0m",
      "\u001b[0;31mAttributeError\u001b[0m                            Traceback (most recent call last)",
      "\u001b[0;32m/tmp/ipykernel_387/59026154.py\u001b[0m in \u001b[0;36m<module>\u001b[0;34m\u001b[0m\n\u001b[1;32m      5\u001b[0m     \"track_analysis_10k.tsv\")\n\u001b[1;32m      6\u001b[0m \u001b[0;34m\u001b[0m\u001b[0m\n\u001b[0;32m----> 7\u001b[0;31m df.to_csv(\n\u001b[0m\u001b[1;32m      8\u001b[0m     \u001b[0mpath\u001b[0m\u001b[0;34m,\u001b[0m\u001b[0;34m\u001b[0m\u001b[0;34m\u001b[0m\u001b[0m\n\u001b[1;32m      9\u001b[0m     sep=\"\\t\")\n",
      "\u001b[0;31mAttributeError\u001b[0m: 'NoneType' object has no attribute 'to_csv'"
     ]
    }
   ],
   "source": [
    "path = os.path.join(\r\n",
    "    os.path.abspath(os.path.dirname(os.path.dirname(os.getcwd()))),\r\n",
    "    \"data\",\r\n",
    "    \"raw\",\r\n",
    "    \"track_analysis_10k.tsv\")\r\n",
    "\r\n",
    "df.to_csv(\r\n",
    "    path, \r\n",
    "    sep=\"\\t\")"
   ]
  },
  {
   "cell_type": "code",
   "execution_count": null,
   "id": "0412fbc9-b9af-4c33-a5b3-419d8a802c55",
   "metadata": {
    "collapsed": false,
    "gradient": {
     "editing": false,
     "id": "0412fbc9-b9af-4c33-a5b3-419d8a802c55",
     "kernelId": "0967136b-3480-4d31-b435-9dbd440b0455",
     "source_hidden": false
    }
   },
   "outputs": [],
   "source": [
    "# load back in the data for second session\r\n",
    "path = os.path.join(\r\n",
    "    os.path.abspath(os.path.dirname(os.path.dirname(os.getcwd()))),\r\n",
    "    \"data\",\r\n",
    "    \"raw\",\r\n",
    "    \"track_analysis_10k.tsv\")\r\n",
    "\r\n",
    "df = pd.read_csv(path, sep=\"\\t\")"
   ]
  },
  {
   "cell_type": "code",
   "execution_count": null,
   "id": "0e6fccf3-5043-444e-8fda-5a3dd48181d2",
   "metadata": {
    "collapsed": false,
    "gradient": {
     "editing": false,
     "execution_count": 5,
     "id": "0e6fccf3-5043-444e-8fda-5a3dd48181d2",
     "kernelId": "0967136b-3480-4d31-b435-9dbd440b0455",
     "source_hidden": false
    }
   },
   "outputs": [
    {
     "name": "stdout",
     "output_type": "stream",
     "text": [
      "<class 'pandas.core.frame.DataFrame'>\n",
      "RangeIndex: 11000 entries, 0 to 10999\n",
      "Data columns (total 14 columns):\n",
      " #   Column        Non-Null Count  Dtype \n",
      "---  ------        --------------  ----- \n",
      " 0   Unnamed: 0    11000 non-null  int64 \n",
      " 1   artist_name   11000 non-null  object\n",
      " 2   track_name    11000 non-null  object\n",
      " 3   duration_ms   11000 non-null  int64 \n",
      " 4   popularity    11000 non-null  int64 \n",
      " 5   release_date  11000 non-null  object\n",
      " 6   genre         11000 non-null  object\n",
      " 7   uri           11000 non-null  object\n",
      " 8   track         3910 non-null   object\n",
      " 9   bars          3910 non-null   object\n",
      " 10  beats         3910 non-null   object\n",
      " 11  sections      3910 non-null   object\n",
      " 12  segments      3910 non-null   object\n",
      " 13  tatums        3910 non-null   object\n",
      "dtypes: int64(3), object(11)\n",
      "memory usage: 1.2+ MB\n"
     ]
    }
   ],
   "source": [
    "df.info()"
   ]
  },
  {
   "cell_type": "code",
   "execution_count": null,
   "id": "941c0fec-3d60-4359-80a3-53b401dba041",
   "metadata": {
    "collapsed": false,
    "gradient": {
     "editing": false,
     "id": "941c0fec-3d60-4359-80a3-53b401dba041",
     "kernelId": "0967136b-3480-4d31-b435-9dbd440b0455",
     "source_hidden": false
    }
   },
   "outputs": [
    {
     "name": "stdout",
     "output_type": "stream",
     "text": [
      "Percent Complete:\t36.36%\n",
      "\n"
     ]
    },
    {
     "name": "stdout",
     "output_type": "stream",
     "text": [
      "Percent Complete:\t37.27%\n",
      "\n"
     ]
    },
    {
     "name": "stdout",
     "output_type": "stream",
     "text": [
      "Percent Complete:\t38.18%\n",
      "\n"
     ]
    },
    {
     "name": "stdout",
     "output_type": "stream",
     "text": [
      "Percent Complete:\t39.09%\n",
      "\n"
     ]
    },
    {
     "name": "stdout",
     "output_type": "stream",
     "text": [
      "Percent Complete:\t40.0%\n",
      "\n"
     ]
    },
    {
     "name": "stdout",
     "output_type": "stream",
     "text": [
      "Percent Complete:\t40.91%\n",
      "\n"
     ]
    },
    {
     "name": "stdout",
     "output_type": "stream",
     "text": [
      "Percent Complete:\t41.82%\n",
      "\n"
     ]
    },
    {
     "name": "stdout",
     "output_type": "stream",
     "text": [
      "Percent Complete:\t42.73%\n",
      "\n"
     ]
    },
    {
     "name": "stdout",
     "output_type": "stream",
     "text": [
      "Percent Complete:\t43.64%\n",
      "\n"
     ]
    },
    {
     "name": "stdout",
     "output_type": "stream",
     "text": [
      "Percent Complete:\t44.55%\n",
      "\n"
     ]
    },
    {
     "name": "stdout",
     "output_type": "stream",
     "text": [
      "Percent Complete:\t45.45%\n",
      "\n"
     ]
    },
    {
     "name": "stdout",
     "output_type": "stream",
     "text": [
      "Percent Complete:\t46.36%\n",
      "\n"
     ]
    },
    {
     "name": "stdout",
     "output_type": "stream",
     "text": [
      "Percent Complete:\t47.27%\n",
      "\n"
     ]
    },
    {
     "name": "stdout",
     "output_type": "stream",
     "text": [
      "Percent Complete:\t48.18%\n",
      "\n"
     ]
    },
    {
     "name": "stdout",
     "output_type": "stream",
     "text": [
      "Percent Complete:\t49.09%\n",
      "\n"
     ]
    },
    {
     "name": "stdout",
     "output_type": "stream",
     "text": [
      "Percent Complete:\t50.0%\n",
      "\n"
     ]
    },
    {
     "name": "stdout",
     "output_type": "stream",
     "text": [
      "Percent Complete:\t50.91%\n",
      "\n"
     ]
    },
    {
     "name": "stdout",
     "output_type": "stream",
     "text": [
      "Percent Complete:\t51.82%\n",
      "\n"
     ]
    },
    {
     "name": "stdout",
     "output_type": "stream",
     "text": [
      "Percent Complete:\t52.73%\n",
      "\n"
     ]
    },
    {
     "name": "stdout",
     "output_type": "stream",
     "text": [
      "Percent Complete:\t53.64%\n",
      "\n"
     ]
    },
    {
     "name": "stdout",
     "output_type": "stream",
     "text": [
      "Percent Complete:\t54.55%\n",
      "\n"
     ]
    },
    {
     "name": "stdout",
     "output_type": "stream",
     "text": [
      "Percent Complete:\t55.45%\n",
      "\n"
     ]
    },
    {
     "name": "stdout",
     "output_type": "stream",
     "text": [
      "Percent Complete:\t56.36%\n",
      "\n"
     ]
    },
    {
     "name": "stdout",
     "output_type": "stream",
     "text": [
      "Percent Complete:\t57.27%\n",
      "\n"
     ]
    },
    {
     "name": "stdout",
     "output_type": "stream",
     "text": [
      "Percent Complete:\t58.18%\n",
      "\n"
     ]
    },
    {
     "name": "stdout",
     "output_type": "stream",
     "text": [
      "Percent Complete:\t59.09%\n",
      "\n"
     ]
    },
    {
     "name": "stdout",
     "output_type": "stream",
     "text": [
      "Percent Complete:\t60.0%\n",
      "\n"
     ]
    },
    {
     "name": "stdout",
     "output_type": "stream",
     "text": [
      "Percent Complete:\t60.91%\n",
      "\n"
     ]
    },
    {
     "name": "stdout",
     "output_type": "stream",
     "text": [
      "Percent Complete:\t61.82%\n",
      "\n"
     ]
    },
    {
     "name": "stdout",
     "output_type": "stream",
     "text": [
      "Percent Complete:\t62.73%\n",
      "\n"
     ]
    },
    {
     "name": "stdout",
     "output_type": "stream",
     "text": [
      "Percent Complete:\t63.64%\n",
      "\n"
     ]
    },
    {
     "name": "stdout",
     "output_type": "stream",
     "text": [
      "Percent Complete:\t64.55%\n",
      "\n"
     ]
    },
    {
     "name": "stdout",
     "output_type": "stream",
     "text": [
      "Percent Complete:\t65.45%\n",
      "\n"
     ]
    },
    {
     "name": "stdout",
     "output_type": "stream",
     "text": [
      "Percent Complete:\t66.36%\n",
      "\n"
     ]
    },
    {
     "name": "stdout",
     "output_type": "stream",
     "text": [
      "Percent Complete:\t67.27%\n",
      "\n"
     ]
    },
    {
     "name": "stdout",
     "output_type": "stream",
     "text": [
      "Percent Complete:\t68.18%\n",
      "\n"
     ]
    },
    {
     "name": "stdout",
     "output_type": "stream",
     "text": [
      "Percent Complete:\t69.09%\n",
      "\n"
     ]
    },
    {
     "name": "stdout",
     "output_type": "stream",
     "text": [
      "Percent Complete:\t70.0%\n",
      "\n"
     ]
    },
    {
     "name": "stdout",
     "output_type": "stream",
     "text": [
      "Percent Complete:\t70.91%\n",
      "\n"
     ]
    },
    {
     "name": "stdout",
     "output_type": "stream",
     "text": [
      "Percent Complete:\t71.82%\n",
      "\n"
     ]
    },
    {
     "name": "stdout",
     "output_type": "stream",
     "text": [
      "Percent Complete:\t72.73%\n",
      "\n"
     ]
    },
    {
     "name": "stdout",
     "output_type": "stream",
     "text": [
      "Percent Complete:\t73.64%\n",
      "\n"
     ]
    },
    {
     "name": "stdout",
     "output_type": "stream",
     "text": [
      "Percent Complete:\t74.55%\n",
      "\n"
     ]
    },
    {
     "name": "stdout",
     "output_type": "stream",
     "text": [
      "Percent Complete:\t75.45%\n",
      "\n"
     ]
    },
    {
     "name": "stdout",
     "output_type": "stream",
     "text": [
      "Percent Complete:\t76.36%\n",
      "\n"
     ]
    },
    {
     "name": "stdout",
     "output_type": "stream",
     "text": [
      "Percent Complete:\t77.27%\n",
      "\n"
     ]
    },
    {
     "name": "stdout",
     "output_type": "stream",
     "text": [
      "Percent Complete:\t78.18%\n",
      "\n"
     ]
    },
    {
     "name": "stdout",
     "output_type": "stream",
     "text": [
      "Percent Complete:\t79.09%\n",
      "\n"
     ]
    },
    {
     "name": "stdout",
     "output_type": "stream",
     "text": [
      "Percent Complete:\t80.0%\n",
      "\n"
     ]
    },
    {
     "name": "stdout",
     "output_type": "stream",
     "text": [
      "Percent Complete:\t80.91%\n",
      "\n"
     ]
    },
    {
     "name": "stdout",
     "output_type": "stream",
     "text": [
      "Percent Complete:\t81.82%\n",
      "\n"
     ]
    },
    {
     "name": "stdout",
     "output_type": "stream",
     "text": [
      "Percent Complete:\t82.73%\n",
      "\n"
     ]
    },
    {
     "name": "stdout",
     "output_type": "stream",
     "text": [
      "Percent Complete:\t83.64%\n",
      "\n"
     ]
    },
    {
     "name": "stdout",
     "output_type": "stream",
     "text": [
      "Percent Complete:\t84.55%\n",
      "\n"
     ]
    },
    {
     "name": "stdout",
     "output_type": "stream",
     "text": [
      "Percent Complete:\t85.45%\n",
      "\n"
     ]
    },
    {
     "name": "stdout",
     "output_type": "stream",
     "text": [
      "Percent Complete:\t86.36%\n",
      "\n"
     ]
    },
    {
     "name": "stdout",
     "output_type": "stream",
     "text": [
      "Percent Complete:\t87.27%\n",
      "\n"
     ]
    },
    {
     "name": "stdout",
     "output_type": "stream",
     "text": [
      "Percent Complete:\t88.18%\n",
      "\n"
     ]
    },
    {
     "name": "stdout",
     "output_type": "stream",
     "text": [
      "Percent Complete:\t89.09%\n",
      "\n"
     ]
    },
    {
     "name": "stdout",
     "output_type": "stream",
     "text": [
      "Percent Complete:\t90.0%\n",
      "\n"
     ]
    },
    {
     "name": "stdout",
     "output_type": "stream",
     "text": [
      "Percent Complete:\t90.91%\n",
      "\n"
     ]
    },
    {
     "name": "stdout",
     "output_type": "stream",
     "text": [
      "Percent Complete:\t91.82%\n",
      "\n"
     ]
    },
    {
     "name": "stdout",
     "output_type": "stream",
     "text": [
      "Percent Complete:\t92.73%\n",
      "\n"
     ]
    },
    {
     "name": "stdout",
     "output_type": "stream",
     "text": [
      "Percent Complete:\t93.64%\n",
      "\n"
     ]
    },
    {
     "name": "stdout",
     "output_type": "stream",
     "text": [
      "Percent Complete:\t94.55%\n",
      "\n"
     ]
    },
    {
     "name": "stdout",
     "output_type": "stream",
     "text": [
      "Percent Complete:\t95.45%\n",
      "\n"
     ]
    },
    {
     "name": "stdout",
     "output_type": "stream",
     "text": [
      "Percent Complete:\t96.36%\n",
      "\n"
     ]
    },
    {
     "name": "stdout",
     "output_type": "stream",
     "text": [
      "Percent Complete:\t97.27%\n",
      "\n"
     ]
    },
    {
     "name": "stdout",
     "output_type": "stream",
     "text": [
      "Percent Complete:\t98.18%\n",
      "\n"
     ]
    },
    {
     "name": "stdout",
     "output_type": "stream",
     "text": [
      "Percent Complete:\t99.09%\n",
      "\n"
     ]
    }
   ],
   "source": [
    "uris = [None] * df.track.isnull().value_counts()[True]\r\n",
    "track = [None] * df.track.isnull().value_counts()[True]\r\n",
    "bars = [None] * df.track.isnull().value_counts()[True]\r\n",
    "beats = [None] * df.track.isnull().value_counts()[True]\r\n",
    "sections = [None] * df.track.isnull().value_counts()[True]\r\n",
    "segments = [None] * df.track.isnull().value_counts()[True]\r\n",
    "tatums = [None] * df.track.isnull().value_counts()[True]\r\n",
    "\r\n",
    "for i, _ in df.iterrows():\r\n",
    "\r\n",
    "    uri = _['uri']\r\n",
    "\r\n",
    "    if not df.isnull().loc[i, 'track']:\r\n",
    "        continue\r\n",
    "    \r\n",
    "    results = sp.audio_analysis(track_id=uri)\r\n",
    "\r\n",
    "    uris.append(uri)\r\n",
    "    track.append(results['track'])\r\n",
    "    bars.append(results['bars'])\r\n",
    "    beats.append(results['beats'])\r\n",
    "    sections.append(results['sections'])\r\n",
    "    segments.append(results['segments'])\r\n",
    "    tatums.append(results['tatums'])\r\n",
    "\r\n",
    "    if i % 100 == 0: \r\n",
    "        print(f\"Percent Complete:\\t{round((i/len(df)) * 100, 2)}%\\n\")"
   ]
  },
  {
   "cell_type": "code",
   "execution_count": null,
   "id": "97a11c21-5b53-40cb-b480-8c24bf37ad16",
   "metadata": {
    "collapsed": false,
    "gradient": {
     "editing": false,
     "id": "97a11c21-5b53-40cb-b480-8c24bf37ad16",
     "kernelId": "0967136b-3480-4d31-b435-9dbd440b0455",
     "source_hidden": false
    }
   },
   "outputs": [],
   "source": []
  },
  {
   "cell_type": "code",
   "execution_count": null,
   "id": "0394c8ab-9930-4249-8d59-7f5227a746fe",
   "metadata": {
    "collapsed": false,
    "gradient": {
     "editing": false,
     "id": "0394c8ab-9930-4249-8d59-7f5227a746fe",
     "kernelId": "0967136b-3480-4d31-b435-9dbd440b0455",
     "source_hidden": false
    }
   },
   "outputs": [],
   "source": [
    "df = df.drop(columns=['Unnamed: 0'])\r\n",
    "\r\n",
    "\r\n",
    "df2 = pd.DataFrame({\r\n",
    "    'uri': uris,\r\n",
    "    'track': track,\r\n",
    "    'bars': bars,\r\n",
    "    'beats': beats, \r\n",
    "    'sections': sections, \r\n",
    "    'segments': segments,\r\n",
    "    'tatums': tatums})\r\n"
   ]
  },
  {
   "cell_type": "code",
   "execution_count": null,
   "id": "38e2bfd5-01f2-4acb-b803-bf6061dedfed",
   "metadata": {
    "collapsed": false,
    "gradient": {
     "editing": false,
     "execution_count": 25,
     "id": "38e2bfd5-01f2-4acb-b803-bf6061dedfed",
     "kernelId": "0967136b-3480-4d31-b435-9dbd440b0455",
     "source_hidden": false
    }
   },
   "outputs": [],
   "source": [
    "df = df.reset_index()"
   ]
  },
  {
   "cell_type": "code",
   "execution_count": null,
   "id": "9ec7acd2-acc0-46fc-a486-87d247b0494e",
   "metadata": {
    "collapsed": false,
    "gradient": {
     "editing": false,
     "execution_count": 26,
     "id": "9ec7acd2-acc0-46fc-a486-87d247b0494e",
     "kernelId": "0967136b-3480-4d31-b435-9dbd440b0455",
     "source_hidden": false
    }
   },
   "outputs": [
    {
     "data": {
      "text/plain": [
       "Index(['uri', 'artist_name', 'track_name', 'duration_ms', 'popularity',\n",
       "       'release_date', 'genre', 'track', 'bars', 'beats', 'sections',\n",
       "       'segments', 'tatums'],\n",
       "      dtype='object')"
      ]
     },
     "execution_count": 26,
     "metadata": {},
     "output_type": "execute_result"
    }
   ],
   "source": [
    "df.columns"
   ]
  },
  {
   "cell_type": "code",
   "execution_count": null,
   "id": "d415b44f-b164-4023-80ac-a9f6b522675e",
   "metadata": {
    "collapsed": false,
    "gradient": {
     "editing": false,
     "id": "d415b44f-b164-4023-80ac-a9f6b522675e",
     "kernelId": "0967136b-3480-4d31-b435-9dbd440b0455",
     "source_hidden": false
    }
   },
   "outputs": [],
   "source": [
    "df_final = df.update(df2)"
   ]
  },
  {
   "cell_type": "code",
   "execution_count": null,
   "id": "5e781462-2af1-47c0-95a5-0de909cd0d0d",
   "metadata": {
    "collapsed": false,
    "gradient": {
     "editing": false,
     "id": "5e781462-2af1-47c0-95a5-0de909cd0d0d",
     "kernelId": "0967136b-3480-4d31-b435-9dbd440b0455",
     "source_hidden": false
    }
   },
   "outputs": [],
   "source": [
    "df.update(df2)"
   ]
  },
  {
   "cell_type": "code",
   "execution_count": null,
   "id": "2246ead1-cac1-4687-b4f2-7a508e02e467",
   "metadata": {
    "collapsed": false,
    "gradient": {
     "editing": false,
     "id": "2246ead1-cac1-4687-b4f2-7a508e02e467",
     "kernelId": "0967136b-3480-4d31-b435-9dbd440b0455",
     "source_hidden": false
    }
   },
   "outputs": [
    {
     "data": {
      "text/html": [
       "<div>\n",
       "<style scoped>\n",
       "    .dataframe tbody tr th:only-of-type {\n",
       "        vertical-align: middle;\n",
       "    }\n",
       "\n",
       "    .dataframe tbody tr th {\n",
       "        vertical-align: top;\n",
       "    }\n",
       "\n",
       "    .dataframe thead th {\n",
       "        text-align: right;\n",
       "    }\n",
       "</style>\n",
       "<table border=\"1\" class=\"dataframe\">\n",
       "  <thead>\n",
       "    <tr style=\"text-align: right;\">\n",
       "      <th></th>\n",
       "      <th>uri</th>\n",
       "      <th>artist_name</th>\n",
       "      <th>track_name</th>\n",
       "      <th>duration_ms</th>\n",
       "      <th>popularity</th>\n",
       "      <th>release_date</th>\n",
       "      <th>genre</th>\n",
       "      <th>track</th>\n",
       "      <th>bars</th>\n",
       "      <th>beats</th>\n",
       "      <th>sections</th>\n",
       "      <th>segments</th>\n",
       "      <th>tatums</th>\n",
       "    </tr>\n",
       "  </thead>\n",
       "  <tbody>\n",
       "    <tr>\n",
       "      <th>10995</th>\n",
       "      <td>spotify:track:3bfuN2UbSYYqCLG3cdweGf</td>\n",
       "      <td>Alice In Chains</td>\n",
       "      <td>Check My Brain</td>\n",
       "      <td>237906</td>\n",
       "      <td>61</td>\n",
       "      <td>2009-01-01</td>\n",
       "      <td>metal</td>\n",
       "      <td>{'num_samples': 4503492, 'duration': 204.24, '...</td>\n",
       "      <td>[{'start': 1.51304, 'duration': 3.21684, 'conf...</td>\n",
       "      <td>[{'start': 0.69473, 'duration': 0.81831, 'conf...</td>\n",
       "      <td>[{'start': 0.0, 'duration': 17.63147, 'confide...</td>\n",
       "      <td>[{'start': 0.0, 'duration': 0.06132, 'confiden...</td>\n",
       "      <td>[{'start': 0.69473, 'duration': 0.40915, 'conf...</td>\n",
       "    </tr>\n",
       "    <tr>\n",
       "      <th>10996</th>\n",
       "      <td>spotify:track:2UBvtKeetnXn6lMnsBUrZz</td>\n",
       "      <td>Soil</td>\n",
       "      <td>Halo</td>\n",
       "      <td>195653</td>\n",
       "      <td>58</td>\n",
       "      <td>2011-10-07</td>\n",
       "      <td>metal</td>\n",
       "      <td>{'num_samples': 4085988, 'duration': 185.30557...</td>\n",
       "      <td>[{'start': 0.12286, 'duration': 2.09808, 'conf...</td>\n",
       "      <td>[{'start': 0.12286, 'duration': 0.52474, 'conf...</td>\n",
       "      <td>[{'start': 0.0, 'duration': 9.01112, 'confiden...</td>\n",
       "      <td>[{'start': 0.0, 'duration': 0.34658, 'confiden...</td>\n",
       "      <td>[{'start': 0.12286, 'duration': 0.26237, 'conf...</td>\n",
       "    </tr>\n",
       "    <tr>\n",
       "      <th>10997</th>\n",
       "      <td>spotify:track:2h14w0TRS50r9MMExfQdpu</td>\n",
       "      <td>System Of A Down</td>\n",
       "      <td>Deer Dance</td>\n",
       "      <td>174933</td>\n",
       "      <td>62</td>\n",
       "      <td>2001-09-04</td>\n",
       "      <td>metal</td>\n",
       "      <td>{'num_samples': 3918138, 'duration': 177.69333...</td>\n",
       "      <td>[{'start': 0.83318, 'duration': 2.57881, 'conf...</td>\n",
       "      <td>[{'start': 0.83318, 'duration': 0.66211, 'conf...</td>\n",
       "      <td>[{'start': 0.0, 'duration': 10.99363, 'confide...</td>\n",
       "      <td>[{'start': 0.0, 'duration': 0.07515, 'confiden...</td>\n",
       "      <td>[{'start': 0.83318, 'duration': 0.33105, 'conf...</td>\n",
       "    </tr>\n",
       "    <tr>\n",
       "      <th>10998</th>\n",
       "      <td>spotify:track:3VHevS1BocAcrihLnl11DG</td>\n",
       "      <td>Seether</td>\n",
       "      <td>Words As Weapons</td>\n",
       "      <td>240200</td>\n",
       "      <td>56</td>\n",
       "      <td>2014-01-01</td>\n",
       "      <td>metal</td>\n",
       "      <td>{'num_samples': 4056318, 'duration': 183.96, '...</td>\n",
       "      <td>[{'start': 2.3468, 'duration': 2.2549, 'confid...</td>\n",
       "      <td>[{'start': 0.62504, 'duration': 0.58496, 'conf...</td>\n",
       "      <td>[{'start': 0.0, 'duration': 39.10793, 'confide...</td>\n",
       "      <td>[{'start': 0.0, 'duration': 0.30177, 'confiden...</td>\n",
       "      <td>[{'start': 0.62504, 'duration': 0.29248, 'conf...</td>\n",
       "    </tr>\n",
       "    <tr>\n",
       "      <th>10999</th>\n",
       "      <td>spotify:track:5pihM63Tj50g1XjLxq0iU8</td>\n",
       "      <td>Limp Bizkit</td>\n",
       "      <td>Break Stuff</td>\n",
       "      <td>166653</td>\n",
       "      <td>62</td>\n",
       "      <td>2005-01-01</td>\n",
       "      <td>metal</td>\n",
       "      <td>{'num_samples': 5294352, 'duration': 240.10667...</td>\n",
       "      <td>[{'start': 0.61419, 'duration': 0.41664, 'conf...</td>\n",
       "      <td>[{'start': 0.19457, 'duration': 0.41962, 'conf...</td>\n",
       "      <td>[{'start': 0.0, 'duration': 8.60306, 'confiden...</td>\n",
       "      <td>[{'start': 0.0, 'duration': 0.1683, 'confidenc...</td>\n",
       "      <td>[{'start': 0.19457, 'duration': 0.20981, 'conf...</td>\n",
       "    </tr>\n",
       "  </tbody>\n",
       "</table>\n",
       "</div>"
      ],
      "text/plain": [
       "                                        uri       artist_name  \\\n",
       "10995  spotify:track:3bfuN2UbSYYqCLG3cdweGf   Alice In Chains   \n",
       "10996  spotify:track:2UBvtKeetnXn6lMnsBUrZz              Soil   \n",
       "10997  spotify:track:2h14w0TRS50r9MMExfQdpu  System Of A Down   \n",
       "10998  spotify:track:3VHevS1BocAcrihLnl11DG           Seether   \n",
       "10999  spotify:track:5pihM63Tj50g1XjLxq0iU8       Limp Bizkit   \n",
       "\n",
       "             track_name  duration_ms  popularity release_date  genre  \\\n",
       "10995    Check My Brain       237906          61   2009-01-01  metal   \n",
       "10996              Halo       195653          58   2011-10-07  metal   \n",
       "10997        Deer Dance       174933          62   2001-09-04  metal   \n",
       "10998  Words As Weapons       240200          56   2014-01-01  metal   \n",
       "10999       Break Stuff       166653          62   2005-01-01  metal   \n",
       "\n",
       "                                                   track  \\\n",
       "10995  {'num_samples': 4503492, 'duration': 204.24, '...   \n",
       "10996  {'num_samples': 4085988, 'duration': 185.30557...   \n",
       "10997  {'num_samples': 3918138, 'duration': 177.69333...   \n",
       "10998  {'num_samples': 4056318, 'duration': 183.96, '...   \n",
       "10999  {'num_samples': 5294352, 'duration': 240.10667...   \n",
       "\n",
       "                                                    bars  \\\n",
       "10995  [{'start': 1.51304, 'duration': 3.21684, 'conf...   \n",
       "10996  [{'start': 0.12286, 'duration': 2.09808, 'conf...   \n",
       "10997  [{'start': 0.83318, 'duration': 2.57881, 'conf...   \n",
       "10998  [{'start': 2.3468, 'duration': 2.2549, 'confid...   \n",
       "10999  [{'start': 0.61419, 'duration': 0.41664, 'conf...   \n",
       "\n",
       "                                                   beats  \\\n",
       "10995  [{'start': 0.69473, 'duration': 0.81831, 'conf...   \n",
       "10996  [{'start': 0.12286, 'duration': 0.52474, 'conf...   \n",
       "10997  [{'start': 0.83318, 'duration': 0.66211, 'conf...   \n",
       "10998  [{'start': 0.62504, 'duration': 0.58496, 'conf...   \n",
       "10999  [{'start': 0.19457, 'duration': 0.41962, 'conf...   \n",
       "\n",
       "                                                sections  \\\n",
       "10995  [{'start': 0.0, 'duration': 17.63147, 'confide...   \n",
       "10996  [{'start': 0.0, 'duration': 9.01112, 'confiden...   \n",
       "10997  [{'start': 0.0, 'duration': 10.99363, 'confide...   \n",
       "10998  [{'start': 0.0, 'duration': 39.10793, 'confide...   \n",
       "10999  [{'start': 0.0, 'duration': 8.60306, 'confiden...   \n",
       "\n",
       "                                                segments  \\\n",
       "10995  [{'start': 0.0, 'duration': 0.06132, 'confiden...   \n",
       "10996  [{'start': 0.0, 'duration': 0.34658, 'confiden...   \n",
       "10997  [{'start': 0.0, 'duration': 0.07515, 'confiden...   \n",
       "10998  [{'start': 0.0, 'duration': 0.30177, 'confiden...   \n",
       "10999  [{'start': 0.0, 'duration': 0.1683, 'confidenc...   \n",
       "\n",
       "                                                  tatums  \n",
       "10995  [{'start': 0.69473, 'duration': 0.40915, 'conf...  \n",
       "10996  [{'start': 0.12286, 'duration': 0.26237, 'conf...  \n",
       "10997  [{'start': 0.83318, 'duration': 0.33105, 'conf...  \n",
       "10998  [{'start': 0.62504, 'duration': 0.29248, 'conf...  \n",
       "10999  [{'start': 0.19457, 'duration': 0.20981, 'conf...  "
      ]
     },
     "execution_count": 29,
     "metadata": {},
     "output_type": "execute_result"
    }
   ],
   "source": [
    "df.tail()"
   ]
  },
  {
   "cell_type": "code",
   "execution_count": null,
   "id": "e381311a-e381-4dcc-a890-55da988394f8",
   "metadata": {
    "collapsed": false,
    "gradient": {
     "editing": false,
     "id": "e381311a-e381-4dcc-a890-55da988394f8",
     "kernelId": "0967136b-3480-4d31-b435-9dbd440b0455",
     "source_hidden": false
    }
   },
   "outputs": [],
   "source": [
    "df.index"
   ]
  },
  {
   "cell_type": "code",
   "execution_count": null,
   "id": "e678f056-24a7-45cb-b5ea-b15905759493",
   "metadata": {
    "collapsed": false,
    "gradient": {
     "editing": false,
     "id": "e678f056-24a7-45cb-b5ea-b15905759493",
     "kernelId": "0967136b-3480-4d31-b435-9dbd440b0455",
     "source_hidden": false
    }
   },
   "outputs": [
    {
     "name": "stdout",
     "output_type": "stream",
     "text": [
      "<class 'pandas.core.frame.DataFrame'>\n",
      "Index: 6769 entries, spotify:track:3UEnF6y5tyHVtMzldS3svp to spotify:track:1vxu8vMNshg5J8z3oA7QJZ\n",
      "Data columns (total 6 columns):\n",
      " #   Column    Non-Null Count  Dtype \n",
      "---  ------    --------------  ----- \n",
      " 0   track     6769 non-null   object\n",
      " 1   bars      6769 non-null   object\n",
      " 2   beats     6769 non-null   object\n",
      " 3   sections  6769 non-null   object\n",
      " 4   segments  6769 non-null   object\n",
      " 5   tatums    6769 non-null   object\n",
      "dtypes: object(6)\n",
      "memory usage: 628.2+ KB\n"
     ]
    }
   ],
   "source": [
    "# check no nulls present\r\n",
    "df2.info()"
   ]
  },
  {
   "cell_type": "code",
   "execution_count": null,
   "id": "53073ea8-d8bd-44fe-be76-433aec587e4d",
   "metadata": {
    "collapsed": false,
    "gradient": {
     "editing": false,
     "id": "53073ea8-d8bd-44fe-be76-433aec587e4d",
     "kernelId": "0967136b-3480-4d31-b435-9dbd440b0455",
     "source_hidden": false
    }
   },
   "outputs": [],
   "source": [
    "path = os.path.join(\r\n",
    "    os.path.abspath(os.path.dirname(os.path.dirname(os.getcwd()))),\r\n",
    "    \"data\",\r\n",
    "    \"raw\",\r\n",
    "    \"track_analysis_10k.tsv\")\r\n",
    "\r\n",
    "df.to_csv(\r\n",
    "    path, \r\n",
    "    sep=\"\\t\")"
   ]
  },
  {
   "cell_type": "code",
   "execution_count": null,
   "id": "2eddcaf0-4b80-4be4-aa8b-1dc456be224c",
   "metadata": {
    "collapsed": false,
    "gradient": {
     "editing": false,
     "id": "2eddcaf0-4b80-4be4-aa8b-1dc456be224c",
     "kernelId": "0967136b-3480-4d31-b435-9dbd440b0455",
     "source_hidden": false
    }
   },
   "outputs": [],
   "source": []
  },
  {
   "cell_type": "code",
   "execution_count": null,
   "id": "adaf9fe0-bafa-45c4-bdb2-b360cf2db28d",
   "metadata": {
    "collapsed": false,
    "gradient": {
     "editing": false,
     "id": "adaf9fe0-bafa-45c4-bdb2-b360cf2db28d",
     "kernelId": "0967136b-3480-4d31-b435-9dbd440b0455",
     "source_hidden": false
    }
   },
   "outputs": [],
   "source": []
  }
 ],
 "metadata": {},
 "nbformat": 4,
 "nbformat_minor": 5
}
