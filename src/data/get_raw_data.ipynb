{
 "cells": [
  {
   "cell_type": "code",
   "execution_count": null,
   "id": "74525d7f-e2e8-4e55-b3c7-8b8315265f13",
   "metadata": {
    "collapsed": false,
    "gradient": {
     "editing": false,
     "id": "74525d7f-e2e8-4e55-b3c7-8b8315265f13",
     "kernelId": "195948c7-cd49-401c-901d-4a8127421db4",
     "source_hidden": false
    }
   },
   "outputs": [
    {
     "data": {
      "text/plain": [
       "True"
      ]
     },
     "execution_count": 2,
     "metadata": {},
     "output_type": "execute_result"
    }
   ],
   "source": [
    "import spotipy\n",
    "from spotipy.oauth2 import SpotifyClientCredentials\n",
    "\n",
    "import pandas as pd\n",
    "\n",
    "import os \n",
    "\n",
    "from dotenv import load_dotenv\n",
    "load_dotenv()"
   ]
  },
  {
   "cell_type": "code",
   "execution_count": null,
   "id": "1f69ba35-56a4-431e-82af-c041aac3c50a",
   "metadata": {
    "collapsed": false,
    "gradient": {
     "editing": false,
     "id": "1f69ba35-56a4-431e-82af-c041aac3c50a",
     "kernelId": "195948c7-cd49-401c-901d-4a8127421db4",
     "source_hidden": false
    }
   },
   "outputs": [],
   "source": [
    "auth_manager = SpotifyClientCredentials()\n",
    "sp = spotipy.Spotify(auth_manager=auth_manager)"
   ]
  },
  {
   "cell_type": "code",
   "execution_count": null,
   "id": "77ed021c-d0b9-4f7f-b943-d5af81237bfa",
   "metadata": {
    "collapsed": false,
    "gradient": {
     "editing": false,
     "id": "77ed021c-d0b9-4f7f-b943-d5af81237bfa",
     "kernelId": "195948c7-cd49-401c-901d-4a8127421db4",
     "source_hidden": false
    }
   },
   "outputs": [],
   "source": [
    "top_ten_genres = (\r\n",
    "    \"pop\",\r\n",
    "    \"hip-hop\",\r\n",
    "    \"edm\", # house\r\n",
    "    \"rock\",\r\n",
    "    \"r-n-b\",\r\n",
    "    \"indie\",\r\n",
    "    \"k-pop\",\r\n",
    "    \"country\",\r\n",
    "    \"latin\",\r\n",
    "    \"classical\",\r\n",
    "    \"metal\"\r\n",
    ")\r\n",
    "for genre in top_ten_genres:\r\n",
    "    assert genre in sp.recommendation_genre_seeds()[\"genres\"]"
   ]
  },
  {
   "cell_type": "code",
   "execution_count": null,
   "id": "84598238-2b0a-4bb3-8b9b-3ed35fde59f1",
   "metadata": {
    "collapsed": false,
    "gradient": {
     "editing": false,
     "id": "84598238-2b0a-4bb3-8b9b-3ed35fde59f1",
     "kernelId": "195948c7-cd49-401c-901d-4a8127421db4",
     "source_hidden": false
    }
   },
   "outputs": [
    {
     "name": "stdout",
     "output_type": "stream",
     "text": [
      "\n",
      "\n",
      "Starting Genre:\tpop\t\tgenre:pop\n"
     ]
    },
    {
     "name": "stdout",
     "output_type": "stream",
     "text": [
      "\n",
      "\n",
      "Starting Genre:\thip-hop\t\tgenre:hip-hop\n"
     ]
    },
    {
     "name": "stdout",
     "output_type": "stream",
     "text": [
      "\n",
      "\n",
      "Starting Genre:\tedm\t\tgenre:edm\n"
     ]
    },
    {
     "name": "stdout",
     "output_type": "stream",
     "text": [
      "\n",
      "\n",
      "Starting Genre:\trock\t\tgenre:rock\n"
     ]
    },
    {
     "name": "stdout",
     "output_type": "stream",
     "text": [
      "\n",
      "\n",
      "Starting Genre:\tr-n-b\t\tgenre:r-n-b\n"
     ]
    },
    {
     "name": "stdout",
     "output_type": "stream",
     "text": [
      "\n",
      "\n",
      "Starting Genre:\tindie\t\tgenre:indie\n"
     ]
    },
    {
     "name": "stdout",
     "output_type": "stream",
     "text": [
      "\n",
      "\n",
      "Starting Genre:\tk-pop\t\tgenre:k-pop\n"
     ]
    },
    {
     "name": "stdout",
     "output_type": "stream",
     "text": [
      "\n",
      "\n",
      "Starting Genre:\tcountry\t\tgenre:country\n"
     ]
    },
    {
     "name": "stdout",
     "output_type": "stream",
     "text": [
      "\n",
      "\n",
      "Starting Genre:\tlatin\t\tgenre:latin\n"
     ]
    },
    {
     "name": "stdout",
     "output_type": "stream",
     "text": [
      "\n",
      "\n",
      "Starting Genre:\tclassical\t\tgenre:classical\n"
     ]
    },
    {
     "name": "stdout",
     "output_type": "stream",
     "text": [
      "\n",
      "\n",
      "Starting Genre:\tmetal\t\tgenre:metal\n"
     ]
    }
   ],
   "source": [
    "artist_name = []\r\n",
    "track_name = []\r\n",
    "duration_ms = []\r\n",
    "popularity = []\r\n",
    "release_date = []\r\n",
    "genres = []\r\n",
    "uris = []\r\n",
    "\r\n",
    "for genre in top_ten_genres:\r\n",
    "    offset = 0\r\n",
    "    q = f\"genre:{genre}\"\r\n",
    "\r\n",
    "    print(f\"\\n\\nStarting Genre:\\t{genre}\\t\\t{q}\")\r\n",
    "\r\n",
    "    while offset < 1000:\r\n",
    "    \r\n",
    "        results = sp.search(\r\n",
    "            q=q,\r\n",
    "            limit=50,\r\n",
    "            offset=offset,\r\n",
    "            type=\"track\")\r\n",
    "        \r\n",
    "        for result in results['tracks']['items']:\r\n",
    "\r\n",
    "            artist_name.append(result['artists'][0]['name'])\r\n",
    "            track_name.append(result['name'])\r\n",
    "            duration_ms.append(result['duration_ms'])\r\n",
    "            popularity.append(result['popularity'])\r\n",
    "            release_date.append(result['album']['release_date'])\r\n",
    "            genres.append(genre)\r\n",
    "            uris.append(result['uri'])\r\n",
    "\r\n",
    "        offset += 50"
   ]
  },
  {
   "cell_type": "code",
   "execution_count": null,
   "id": "4827f133-b55b-4115-8f81-7fdabcc12062",
   "metadata": {
    "collapsed": false,
    "gradient": {
     "editing": false,
     "id": "4827f133-b55b-4115-8f81-7fdabcc12062",
     "kernelId": "195948c7-cd49-401c-901d-4a8127421db4",
     "source_hidden": false
    }
   },
   "outputs": [
    {
     "name": "stdout",
     "output_type": "stream",
     "text": [
      "Percent Complete:\t0.91%\n",
      "\n",
      "Percent Complete:\t1.82%\n",
      "\n"
     ]
    },
    {
     "name": "stdout",
     "output_type": "stream",
     "text": [
      "Percent Complete:\t2.73%\n",
      "\n",
      "Percent Complete:\t3.64%\n",
      "\n"
     ]
    },
    {
     "name": "stdout",
     "output_type": "stream",
     "text": [
      "Percent Complete:\t4.55%\n",
      "\n",
      "Percent Complete:\t5.45%\n",
      "\n"
     ]
    },
    {
     "name": "stdout",
     "output_type": "stream",
     "text": [
      "Percent Complete:\t6.36%\n",
      "\n",
      "Percent Complete:\t7.27%\n",
      "\n"
     ]
    },
    {
     "name": "stdout",
     "output_type": "stream",
     "text": [
      "Percent Complete:\t8.18%\n",
      "\n",
      "Percent Complete:\t9.09%\n",
      "\n"
     ]
    },
    {
     "name": "stdout",
     "output_type": "stream",
     "text": [
      "Percent Complete:\t10.0%\n",
      "\n",
      "Percent Complete:\t10.91%\n",
      "\n"
     ]
    },
    {
     "name": "stdout",
     "output_type": "stream",
     "text": [
      "Percent Complete:\t11.82%\n",
      "\n",
      "Percent Complete:\t12.73%\n",
      "\n"
     ]
    },
    {
     "name": "stdout",
     "output_type": "stream",
     "text": [
      "Percent Complete:\t13.64%\n",
      "\n",
      "Percent Complete:\t14.55%\n",
      "\n"
     ]
    },
    {
     "name": "stdout",
     "output_type": "stream",
     "text": [
      "Percent Complete:\t15.45%\n",
      "\n",
      "Percent Complete:\t16.36%\n",
      "\n"
     ]
    },
    {
     "name": "stdout",
     "output_type": "stream",
     "text": [
      "Percent Complete:\t17.27%\n",
      "\n",
      "Percent Complete:\t18.18%\n",
      "\n"
     ]
    },
    {
     "name": "stdout",
     "output_type": "stream",
     "text": [
      "Percent Complete:\t19.09%\n",
      "\n",
      "Percent Complete:\t20.0%\n",
      "\n"
     ]
    },
    {
     "name": "stdout",
     "output_type": "stream",
     "text": [
      "Percent Complete:\t20.91%\n",
      "\n",
      "Percent Complete:\t21.82%\n",
      "\n"
     ]
    },
    {
     "name": "stdout",
     "output_type": "stream",
     "text": [
      "Percent Complete:\t22.73%\n",
      "\n",
      "Percent Complete:\t23.64%\n",
      "\n"
     ]
    },
    {
     "name": "stdout",
     "output_type": "stream",
     "text": [
      "Percent Complete:\t24.55%\n",
      "\n",
      "Percent Complete:\t25.45%\n",
      "\n"
     ]
    },
    {
     "name": "stdout",
     "output_type": "stream",
     "text": [
      "Percent Complete:\t26.36%\n",
      "\n",
      "Percent Complete:\t27.27%\n",
      "\n"
     ]
    },
    {
     "name": "stdout",
     "output_type": "stream",
     "text": [
      "Percent Complete:\t28.18%\n",
      "\n",
      "Percent Complete:\t29.09%\n",
      "\n"
     ]
    },
    {
     "name": "stdout",
     "output_type": "stream",
     "text": [
      "Percent Complete:\t30.0%\n",
      "\n",
      "Percent Complete:\t30.91%\n",
      "\n"
     ]
    },
    {
     "name": "stdout",
     "output_type": "stream",
     "text": [
      "Percent Complete:\t31.82%\n",
      "\n",
      "Percent Complete:\t32.73%\n",
      "\n"
     ]
    },
    {
     "name": "stdout",
     "output_type": "stream",
     "text": [
      "Percent Complete:\t33.64%\n",
      "\n",
      "Percent Complete:\t34.55%\n",
      "\n"
     ]
    },
    {
     "name": "stdout",
     "output_type": "stream",
     "text": [
      "Percent Complete:\t35.45%\n",
      "\n",
      "Percent Complete:\t36.36%\n",
      "\n"
     ]
    },
    {
     "name": "stdout",
     "output_type": "stream",
     "text": [
      "Percent Complete:\t37.27%\n",
      "\n",
      "Percent Complete:\t38.18%\n",
      "\n"
     ]
    },
    {
     "name": "stdout",
     "output_type": "stream",
     "text": [
      "Percent Complete:\t39.09%\n",
      "\n",
      "Percent Complete:\t40.0%\n",
      "\n"
     ]
    },
    {
     "name": "stdout",
     "output_type": "stream",
     "text": [
      "Percent Complete:\t40.91%\n",
      "\n",
      "Percent Complete:\t41.82%\n",
      "\n"
     ]
    },
    {
     "name": "stdout",
     "output_type": "stream",
     "text": [
      "Percent Complete:\t42.73%\n",
      "\n",
      "Percent Complete:\t43.64%\n",
      "\n"
     ]
    },
    {
     "name": "stdout",
     "output_type": "stream",
     "text": [
      "Percent Complete:\t44.55%\n",
      "\n",
      "Percent Complete:\t45.45%\n",
      "\n"
     ]
    },
    {
     "name": "stdout",
     "output_type": "stream",
     "text": [
      "Percent Complete:\t46.36%\n",
      "\n",
      "Percent Complete:\t47.27%\n",
      "\n"
     ]
    },
    {
     "name": "stdout",
     "output_type": "stream",
     "text": [
      "Percent Complete:\t48.18%\n",
      "\n"
     ]
    },
    {
     "name": "stdout",
     "output_type": "stream",
     "text": [
      "Percent Complete:\t49.09%\n",
      "\n",
      "Percent Complete:\t50.0%\n",
      "\n"
     ]
    },
    {
     "name": "stdout",
     "output_type": "stream",
     "text": [
      "Percent Complete:\t50.91%\n",
      "\n",
      "Percent Complete:\t51.82%\n",
      "\n"
     ]
    },
    {
     "name": "stdout",
     "output_type": "stream",
     "text": [
      "Percent Complete:\t52.73%\n",
      "\n",
      "Percent Complete:\t53.64%\n",
      "\n"
     ]
    },
    {
     "name": "stdout",
     "output_type": "stream",
     "text": [
      "Percent Complete:\t54.55%\n",
      "\n",
      "Percent Complete:\t55.45%\n",
      "\n"
     ]
    },
    {
     "name": "stdout",
     "output_type": "stream",
     "text": [
      "Percent Complete:\t56.36%\n",
      "\n",
      "Percent Complete:\t57.27%\n",
      "\n"
     ]
    },
    {
     "name": "stdout",
     "output_type": "stream",
     "text": [
      "Percent Complete:\t58.18%\n",
      "\n",
      "Percent Complete:\t59.09%\n",
      "\n"
     ]
    },
    {
     "name": "stdout",
     "output_type": "stream",
     "text": [
      "Percent Complete:\t60.0%\n",
      "\n",
      "Percent Complete:\t60.91%\n",
      "\n"
     ]
    },
    {
     "name": "stdout",
     "output_type": "stream",
     "text": [
      "Percent Complete:\t61.82%\n",
      "\n",
      "Percent Complete:\t62.73%\n",
      "\n"
     ]
    },
    {
     "name": "stdout",
     "output_type": "stream",
     "text": [
      "Percent Complete:\t63.64%\n",
      "\n",
      "Percent Complete:\t64.55%\n",
      "\n"
     ]
    },
    {
     "name": "stdout",
     "output_type": "stream",
     "text": [
      "Percent Complete:\t65.45%\n",
      "\n",
      "Percent Complete:\t66.36%\n",
      "\n"
     ]
    },
    {
     "name": "stdout",
     "output_type": "stream",
     "text": [
      "Percent Complete:\t67.27%\n",
      "\n",
      "Percent Complete:\t68.18%\n",
      "\n"
     ]
    },
    {
     "name": "stdout",
     "output_type": "stream",
     "text": [
      "Percent Complete:\t69.09%\n",
      "\n",
      "Percent Complete:\t70.0%\n",
      "\n"
     ]
    },
    {
     "name": "stdout",
     "output_type": "stream",
     "text": [
      "Percent Complete:\t70.91%\n",
      "\n",
      "Percent Complete:\t71.82%\n",
      "\n"
     ]
    },
    {
     "name": "stdout",
     "output_type": "stream",
     "text": [
      "Percent Complete:\t72.73%\n",
      "\n",
      "Percent Complete:\t73.64%\n",
      "\n"
     ]
    },
    {
     "name": "stdout",
     "output_type": "stream",
     "text": [
      "Percent Complete:\t74.55%\n",
      "\n",
      "Percent Complete:\t75.45%\n",
      "\n"
     ]
    },
    {
     "name": "stdout",
     "output_type": "stream",
     "text": [
      "Percent Complete:\t76.36%\n",
      "\n",
      "Percent Complete:\t77.27%\n",
      "\n"
     ]
    },
    {
     "name": "stdout",
     "output_type": "stream",
     "text": [
      "Percent Complete:\t78.18%\n",
      "\n",
      "Percent Complete:\t79.09%\n",
      "\n"
     ]
    },
    {
     "name": "stdout",
     "output_type": "stream",
     "text": [
      "Percent Complete:\t80.0%\n",
      "\n",
      "Percent Complete:\t80.91%\n",
      "\n"
     ]
    },
    {
     "name": "stdout",
     "output_type": "stream",
     "text": [
      "Percent Complete:\t81.82%\n",
      "\n",
      "Percent Complete:\t82.73%\n",
      "\n"
     ]
    },
    {
     "name": "stdout",
     "output_type": "stream",
     "text": [
      "Percent Complete:\t83.64%\n",
      "\n"
     ]
    },
    {
     "name": "stdout",
     "output_type": "stream",
     "text": [
      "Percent Complete:\t84.55%\n",
      "\n",
      "Percent Complete:\t85.45%\n",
      "\n"
     ]
    },
    {
     "name": "stdout",
     "output_type": "stream",
     "text": [
      "Percent Complete:\t86.36%\n",
      "\n"
     ]
    },
    {
     "name": "stdout",
     "output_type": "stream",
     "text": [
      "Percent Complete:\t87.27%\n",
      "\n"
     ]
    },
    {
     "name": "stdout",
     "output_type": "stream",
     "text": [
      "Percent Complete:\t88.18%\n",
      "\n"
     ]
    },
    {
     "name": "stdout",
     "output_type": "stream",
     "text": [
      "Percent Complete:\t89.09%\n",
      "\n"
     ]
    },
    {
     "name": "stdout",
     "output_type": "stream",
     "text": [
      "Percent Complete:\t90.0%\n",
      "\n"
     ]
    },
    {
     "name": "stdout",
     "output_type": "stream",
     "text": [
      "Percent Complete:\t90.91%\n",
      "\n",
      "Percent Complete:\t91.82%\n",
      "\n"
     ]
    },
    {
     "name": "stdout",
     "output_type": "stream",
     "text": [
      "Percent Complete:\t92.73%\n",
      "\n",
      "Percent Complete:\t93.64%\n",
      "\n"
     ]
    },
    {
     "name": "stdout",
     "output_type": "stream",
     "text": [
      "Percent Complete:\t94.55%\n",
      "\n",
      "Percent Complete:\t95.45%\n",
      "\n"
     ]
    },
    {
     "name": "stdout",
     "output_type": "stream",
     "text": [
      "Percent Complete:\t96.36%\n",
      "\n",
      "Percent Complete:\t97.27%\n",
      "\n"
     ]
    },
    {
     "name": "stdout",
     "output_type": "stream",
     "text": [
      "Percent Complete:\t98.18%\n",
      "\n",
      "Percent Complete:\t99.09%\n",
      "\n"
     ]
    },
    {
     "name": "stdout",
     "output_type": "stream",
     "text": [
      "Percent Complete:\t100.0%\n",
      "\n"
     ]
    }
   ],
   "source": [
    "danceability = []\r\n",
    "energy = []\r\n",
    "loudness = []\r\n",
    "mode = []\r\n",
    "speechiness = []\r\n",
    "instrumentalness = []\r\n",
    "liveness = []\r\n",
    "valence = []\r\n",
    "tempo = []\r\n",
    "\r\n",
    "i, j = 0, 100\r\n",
    "while j <= len(uris):\r\n",
    "    results = sp.audio_features(tracks=uris[i:j])\r\n",
    "\r\n",
    "    for result in results:\r\n",
    "        danceability.append(result['danceability'])\r\n",
    "        energy.append(result['energy'])\r\n",
    "        loudness.append(result['loudness'])\r\n",
    "        mode.append(result['mode'])\r\n",
    "        speechiness.append(result['speechiness'])\r\n",
    "        instrumentalness.append(result['instrumentalness'])\r\n",
    "        liveness.append(result['liveness'])\r\n",
    "        valence.append(result['valence'])\r\n",
    "        tempo.append(result['tempo'])\r\n",
    "    \r\n",
    "    \r\n",
    "    print(f\"Percent Complete:\\t{round((j/len(uris)) * 100, 2)}%\\n\")\r\n",
    "    i += 100\r\n",
    "    j += 100"
   ]
  },
  {
   "cell_type": "code",
   "execution_count": null,
   "id": "a6bcb992-aebd-4023-abd8-ef8312b7d6eb",
   "metadata": {
    "collapsed": false,
    "gradient": {
     "editing": false,
     "id": "a6bcb992-aebd-4023-abd8-ef8312b7d6eb",
     "kernelId": "195948c7-cd49-401c-901d-4a8127421db4",
     "source_hidden": false
    }
   },
   "outputs": [
    {
     "data": {
      "text/plain": [
       "11000"
      ]
     },
     "execution_count": 7,
     "metadata": {},
     "output_type": "execute_result"
    }
   ],
   "source": [
    "len(energy)"
   ]
  },
  {
   "cell_type": "code",
   "execution_count": null,
   "id": "ddcf5a55-b964-46fa-8e00-58488b079b1b",
   "metadata": {
    "collapsed": false,
    "gradient": {
     "editing": false,
     "id": "ddcf5a55-b964-46fa-8e00-58488b079b1b",
     "kernelId": "195948c7-cd49-401c-901d-4a8127421db4",
     "source_hidden": false
    }
   },
   "outputs": [
    {
     "data": {
      "text/plain": [
       "11000"
      ]
     },
     "execution_count": 8,
     "metadata": {},
     "output_type": "execute_result"
    }
   ],
   "source": [
    "len(uris)"
   ]
  },
  {
   "cell_type": "code",
   "execution_count": null,
   "id": "06916a69-4851-4899-bdba-75c9931b0126",
   "metadata": {
    "collapsed": false,
    "gradient": {
     "editing": false,
     "id": "06916a69-4851-4899-bdba-75c9931b0126",
     "kernelId": "195948c7-cd49-401c-901d-4a8127421db4",
     "source_hidden": false
    }
   },
   "outputs": [],
   "source": [
    "df = pd.DataFrame({\r\n",
    "    'artist_name': artist_name,\r\n",
    "    'track_name': track_name,\r\n",
    "    'duration_ms': duration_ms,\r\n",
    "    'popularity': popularity,\r\n",
    "    'release_date': release_date,\r\n",
    "    'genre': genres,\r\n",
    "    'uri': uris,\r\n",
    "    'danceability': danceability,\r\n",
    "    'energy': energy,\r\n",
    "    'loudness': loudness,\r\n",
    "    'mode': mode,\r\n",
    "    'speechiness': speechiness,\r\n",
    "    'instrumentalness': instrumentalness,\r\n",
    "    'liveness': liveness,\r\n",
    "    'valence': valence,\r\n",
    "    'tempo': tempo\r\n",
    "})"
   ]
  },
  {
   "cell_type": "code",
   "execution_count": null,
   "id": "ab78f729-4c0b-4623-a9dc-c182d0d9798e",
   "metadata": {
    "collapsed": false,
    "gradient": {
     "editing": false,
     "id": "ab78f729-4c0b-4623-a9dc-c182d0d9798e",
     "kernelId": "195948c7-cd49-401c-901d-4a8127421db4",
     "source_hidden": false
    }
   },
   "outputs": [],
   "source": [
    "path = os.path.join(\r\n",
    "    os.path.abspath(os.path.dirname(os.path.dirname(os.getcwd()))),\r\n",
    "    \"data\",\r\n",
    "    \"raw\",\r\n",
    "    \"track_features.tsv\")\r\n",
    "\r\n",
    "df.to_csv(\r\n",
    "    path, \r\n",
    "    sep=\"\\t\")"
   ]
  }
 ],
 "metadata": {},
 "nbformat": 4,
 "nbformat_minor": 5
}
