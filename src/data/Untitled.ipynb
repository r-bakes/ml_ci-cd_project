{
 "cells": [
  {
   "cell_type": "code",
   "execution_count": null,
   "id": "1436a439-7a05-4f46-ba9f-f8b0f1a92eea",
   "metadata": {
    "collapsed": false,
    "gradient": {
     "editing": false,
     "id": "1436a439-7a05-4f46-ba9f-f8b0f1a92eea",
     "kernelId": "cca41d96-6502-4359-bfe9-b72a59265953",
     "source_hidden": false
    }
   },
   "outputs": [],
   "source": [
    "import pandas as pd\r\n",
    "import numpy as np\r\n",
    "import os"
   ]
  },
  {
   "cell_type": "code",
   "execution_count": null,
   "id": "3f93d401-d361-40bb-abf3-3352a2d4d54f",
   "metadata": {
    "collapsed": false,
    "gradient": {
     "editing": false,
     "id": "3f93d401-d361-40bb-abf3-3352a2d4d54f",
     "kernelId": "cca41d96-6502-4359-bfe9-b72a59265953",
     "source_hidden": false
    }
   },
   "outputs": [],
   "source": [
    "raw_path = os.path.join(\r\n",
    "    os.path.dirname(os.path.dirname(os.getcwd())),\r\n",
    "    'data',\r\n",
    "    'raw',\r\n",
    "    'track_features_50k.csv')"
   ]
  },
  {
   "cell_type": "code",
   "execution_count": null,
   "id": "7be62b2f-74f2-4150-957a-0f56ae52a3be",
   "metadata": {
    "collapsed": false,
    "gradient": {
     "editing": false,
     "id": "7be62b2f-74f2-4150-957a-0f56ae52a3be",
     "kernelId": "cca41d96-6502-4359-bfe9-b72a59265953",
     "source_hidden": false
    }
   },
   "outputs": [
    {
     "data": {
      "text/plain": [
       "instance_id          float64\n",
       "artist_name         category\n",
       "track_name          category\n",
       "popularity           float64\n",
       "acousticness         float64\n",
       "danceability         float64\n",
       "duration_ms          float64\n",
       "energy               float64\n",
       "instrumentalness     float64\n",
       "key                 category\n",
       "liveness             float64\n",
       "loudness             float64\n",
       "mode                category\n",
       "speechiness          float64\n",
       "tempo                 object\n",
       "obtained_date         object\n",
       "valence              float64\n",
       "genre               category\n",
       "dtype: object"
      ]
     },
     "execution_count": 14,
     "metadata": {},
     "output_type": "execute_result"
    }
   ],
   "source": [
    "# prep data\r\n",
    "raw = pd.read_csv(raw_path, sep=',').rename(columns={'music_genre': 'genre'})\r\n",
    "raw = raw.dropna()\r\n",
    "raw['tempo'] = raw['tempo'].replace('?', np.nan)\r\n",
    "raw = raw.astype({\r\n",
    "    'key': 'category', \r\n",
    "    'mode': 'category', \r\n",
    "    'genre': 'category',\r\n",
    "    'artist_name': 'category',\r\n",
    "    'track_name': 'category'})\r\n",
    "# raw['obtained_date'] = pd.to_datetime(raw['obtained_date'])\r\n",
    "\r\n",
    "raw.dtypes"
   ]
  },
  {
   "cell_type": "code",
   "execution_count": null,
   "id": "c7963e4e-15ca-48a2-a2ba-8e1b1907a7f5",
   "metadata": {
    "collapsed": false,
    "gradient": {
     "editing": false,
     "id": "c7963e4e-15ca-48a2-a2ba-8e1b1907a7f5",
     "kernelId": "cca41d96-6502-4359-bfe9-b72a59265953",
     "source_hidden": false
    }
   },
   "outputs": [],
   "source": [
    "save_path = os.path.join(\r\n",
    "    os.path.abspath(os.path.dirname(os.path.dirname(os.getcwd()))),\r\n",
    "    \"data\",\r\n",
    "    \"processed\",\r\n",
    "    \"track_features_50k.tsv\")\r\n",
    "\r\n",
    "raw.to_csv(\r\n",
    "    save_path, \r\n",
    "    sep=\"\\t\")"
   ]
  },
  {
   "cell_type": "code",
   "execution_count": null,
   "id": "79a6b0ae-c888-4eaf-93b8-679425ba266f",
   "metadata": {
    "collapsed": false,
    "gradient": {
     "editing": false,
     "id": "79a6b0ae-c888-4eaf-93b8-679425ba266f",
     "kernelId": "cca41d96-6502-4359-bfe9-b72a59265953",
     "source_hidden": false
    }
   },
   "outputs": [],
   "source": []
  }
 ],
 "metadata": {},
 "nbformat": 4,
 "nbformat_minor": 5
}
