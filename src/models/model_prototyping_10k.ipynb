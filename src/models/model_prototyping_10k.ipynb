{
 "cells": [
  {
   "cell_type": "code",
   "execution_count": null,
   "id": "93734a14-213b-4ed8-bbeb-d76112888c08",
   "metadata": {
    "collapsed": false,
    "gradient": {
     "editing": false,
     "id": "93734a14-213b-4ed8-bbeb-d76112888c08",
     "kernelId": "545a0061-29af-4a81-ba90-de9e5e4524e9",
     "source_hidden": false
    }
   },
   "outputs": [],
   "source": [
    "from sklearn.linear_model import LogisticRegression\r\n",
    "from sklearn.svm import SVC \r\n",
    "from sklearn.ensemble import RandomForestClassifier\r\n",
    "from sklearn.ensemble import VotingClassifier\r\n",
    "from sklearn.naive_bayes import MultinomialNB\r\n",
    "from sklearn.preprocessing import StandardScaler\r\n",
    "\r\n",
    "from sklearn.model_selection import train_test_split\r\n",
    "from sklearn.pipeline import Pipeline\r\n",
    "from sklearn.model_selection import GridSearchCV\r\n",
    "\r\n",
    "from datetime import datetime\r\n",
    "\r\n",
    "import os\r\n",
    "import joblib\r\n",
    "import pandas as pd\r\n",
    "\r\n",
    "\r\n",
    "# Helper Functions\r\n",
    "def save_model(model, algorithm: str, experiment: str) -> None:\r\n",
    "\r\n",
    "    today = datetime.today().strftime(\"%Y-%m-%d\")\r\n",
    "    \r\n",
    "    path = os.path.join(\r\n",
    "        os.path.dirname(os.path.dirname(os.getcwd())),\r\n",
    "        'models',\r\n",
    "        'genre_classification',\r\n",
    "        algorithm,\r\n",
    "        f'{experiment}_{today}_{algorithm}.pkl')\r\n",
    "\r\n",
    "    print(\"Saving Model:\\t{str(path)}\")\r\n",
    "    joblib.dump(model, path)"
   ]
  },
  {
   "cell_type": "code",
   "execution_count": null,
   "id": "2e7c71da-4914-4be5-99d0-c33139659268",
   "metadata": {
    "collapsed": false,
    "gradient": {
     "editing": false,
     "id": "2e7c71da-4914-4be5-99d0-c33139659268",
     "kernelId": "545a0061-29af-4a81-ba90-de9e5e4524e9",
     "source_hidden": false
    }
   },
   "outputs": [],
   "source": [
    "data_path = os.path.join(\r\n",
    "    os.path.dirname(os.path.dirname(os.getcwd())),\r\n",
    "    'data',\r\n",
    "    'raw',\r\n",
    "    'track_features_10k.tsv')\r\n",
    "\r\n",
    "df = pd.read_csv(data_path, sep='\\t')"
   ]
  },
  {
   "cell_type": "code",
   "execution_count": null,
   "id": "0bcd0c9d-870d-4cc8-9d9f-b81fd36cdfe4",
   "metadata": {
    "collapsed": false,
    "gradient": {
     "editing": false,
     "id": "0bcd0c9d-870d-4cc8-9d9f-b81fd36cdfe4",
     "kernelId": "545a0061-29af-4a81-ba90-de9e5e4524e9",
     "source_hidden": false
    }
   },
   "outputs": [],
   "source": [
    "rf_pipe = Pipeline([\r\n",
    "    ('scalar', StandardScaler()),\r\n",
    "    ('rf', RandomForestClassifier())\r\n",
    "])\r\n",
    "\r\n",
    "mlr_pipe = Pipeline([\r\n",
    "    ('scaler', StandardScaler()), \r\n",
    "    ('mlr', LogisticRegression(multi_class='multinomial'))\r\n",
    "])\r\n",
    "\r\n",
    "svm_pipe = Pipeline([\r\n",
    "    ('scaler', StandardScaler()), \r\n",
    "    ('svc', SVC())\r\n",
    "])\r\n",
    "\r\n",
    "mnb_pipe = Pipeline([\r\n",
    "    ('scalar', StandardScaler()),\r\n",
    "    ('mnb', MultinomialNB())\r\n",
    "])\r\n",
    "\r\n",
    "vclf_pipe = Pipeline([\r\n",
    "    ('scalar', StandardScaler()),\r\n",
    "    ('vclf', VotingClassifier(\r\n",
    "        estimators=[\r\n",
    "            (\r\n",
    "                'rf', \r\n",
    "                RandomForestClassifier(\r\n",
    "                    bootstrap=False, \r\n",
    "                    max_depth=70,\r\n",
    "                    max_features='sqrt', \r\n",
    "                    min_samples_leaf=5,\r\n",
    "                    min_samples_split=5,\r\n",
    "                    n_estimators=300)\r\n",
    "            ),\r\n",
    "            (\r\n",
    "                'mlr', \r\n",
    "                LogisticRegression(\r\n",
    "                    C=10, \r\n",
    "                    multi_class='multinomial', \r\n",
    "                    penalty='l1', \r\n",
    "                    solver='saga')\r\n",
    "            ),\r\n",
    "            (\r\n",
    "                'svc', \r\n",
    "                SVC(\r\n",
    "                    C=1,\r\n",
    "                    kernel='rbf',\r\n",
    "                    gamma='auto')\r\n",
    "            )\r\n",
    "\r\n",
    "        ],\r\n",
    "    voting='hard',\r\n",
    "    n_jobs=-1))\r\n",
    "])"
   ]
  },
  {
   "cell_type": "code",
   "execution_count": null,
   "id": "51614b3e-7a94-4f78-baab-47a4248a876e",
   "metadata": {
    "collapsed": false,
    "gradient": {
     "editing": false,
     "id": "51614b3e-7a94-4f78-baab-47a4248a876e",
     "kernelId": "545a0061-29af-4a81-ba90-de9e5e4524e9",
     "source_hidden": false
    }
   },
   "outputs": [],
   "source": [
    "mlr_param_grid = {\r\n",
    "    'mlr__solver': ['newton-cg', 'lbfgs', 'saga'],\r\n",
    "    'mlr__penalty': ['l1', 'l2'],\r\n",
    "    'mlr__C': [0.1, 1, 10],\r\n",
    "    'mlr__max_iter': list(range(100, 500, 50))\r\n",
    "}\r\n",
    "mlr_search = GridSearchCV(\r\n",
    "    estimator=mlr_pipe,\r\n",
    "    param_grid=mlr_param_grid,\r\n",
    "    n_jobs=-1,\r\n",
    "    verbose=10)\r\n",
    "\r\n",
    "rf_param_grid = {\r\n",
    "    'rf__n_estimators': list(range(100, 500, 50)),\r\n",
    "    'rf__max_features': ['auto', 'sqrt'],\r\n",
    "    'rf__max_depth': [None] + list(range(10, 110, 20)),\r\n",
    "    'rf__min_samples_split': [2,5,10],\r\n",
    "    'rf__min_samples_leaf': [1, 2, 5],\r\n",
    "    'rf__bootstrap': [False]\r\n",
    "}\r\n",
    "rf_search = GridSearchCV(\r\n",
    "    estimator=rf_pipe,\r\n",
    "    param_grid=rf_param_grid,\r\n",
    "    n_jobs=-1,\r\n",
    "    verbose=10)\r\n",
    "\r\n",
    "svm_param_grid = {\r\n",
    "    'svc__C': [0.1, 1, 10],\r\n",
    "    'svc__kernel': ['rbf'],\r\n",
    "    'svc__gamma': ['auto', 'scale']\r\n",
    "}\r\n",
    "svm_search = GridSearchCV(\r\n",
    "    estimator=svm_pipe,\r\n",
    "    param_grid=svm_param_grid,\r\n",
    "    n_jobs=-1,\r\n",
    "    verbose=10)\r\n",
    "\r\n",
    "# mnb_param_grid = {\r\n",
    "#     'mnb__alpha': [0, .1, 1, 5]\r\n",
    "# }\r\n",
    "# mnb_search = GridSearchCV(\r\n",
    "#     estimator=mnb_pipe,\r\n",
    "#     param_grid=mnb_param_grid,\r\n",
    "#     n_jobs=-1,\r\n",
    "#     verbose=10)\r\n"
   ]
  },
  {
   "cell_type": "code",
   "execution_count": null,
   "id": "c809c501-2f3c-4d25-868a-008cbeca5638",
   "metadata": {
    "collapsed": true,
    "gradient": {
     "editing": false,
     "id": "c809c501-2f3c-4d25-868a-008cbeca5638",
     "kernelId": "545a0061-29af-4a81-ba90-de9e5e4524e9",
     "source_hidden": false
    }
   },
   "outputs": [
    {
     "ename": "NameError",
     "evalue": "name 'x_train' is not defined",
     "output_type": "error",
     "traceback": [
      "\u001b[0;31m---------------------------------------------------------------------------\u001b[0m",
      "\u001b[0;31mNameError\u001b[0m                                 Traceback (most recent call last)",
      "\u001b[0;32m/tmp/ipykernel_756/2532261243.py\u001b[0m in \u001b[0;36m<module>\u001b[0;34m\u001b[0m\n\u001b[0;32m----> 1\u001b[0;31m \u001b[0mmlr_search\u001b[0m\u001b[0;34m.\u001b[0m\u001b[0mfit\u001b[0m\u001b[0;34m(\u001b[0m\u001b[0mx_train\u001b[0m\u001b[0;34m,\u001b[0m \u001b[0my_train\u001b[0m\u001b[0;34m)\u001b[0m\u001b[0;34m\u001b[0m\u001b[0;34m\u001b[0m\u001b[0m\n\u001b[0m\u001b[1;32m      2\u001b[0m \u001b[0;34m\u001b[0m\u001b[0m\n\u001b[1;32m      3\u001b[0m save_model(\n\u001b[1;32m      4\u001b[0m     \u001b[0mmodel\u001b[0m\u001b[0;34m=\u001b[0m\u001b[0mmlr_search\u001b[0m\u001b[0;34m,\u001b[0m\u001b[0;34m\u001b[0m\u001b[0;34m\u001b[0m\u001b[0m\n\u001b[1;32m      5\u001b[0m     \u001b[0malgorithm\u001b[0m\u001b[0;34m=\u001b[0m\u001b[0;34m'multinomial_logistic_regression'\u001b[0m\u001b[0;34m,\u001b[0m\u001b[0;34m\u001b[0m\u001b[0;34m\u001b[0m\u001b[0m\n",
      "\u001b[0;31mNameError\u001b[0m: name 'x_train' is not defined"
     ]
    }
   ],
   "source": [
    "mlr_search.fit(x_train, y_train)\r\n",
    "\r\n",
    "save_model(\r\n",
    "    model=mlr_search,\r\n",
    "    algorithm='multinomial_logistic_regression',\r\n",
    "    experiment='grid_search_results'\r\n",
    ")"
   ]
  },
  {
   "cell_type": "code",
   "execution_count": null,
   "id": "3b3b745c-b342-458f-8131-ca6b6372e580",
   "metadata": {
    "collapsed": true,
    "gradient": {
     "editing": false,
     "id": "3b3b745c-b342-458f-8131-ca6b6372e580",
     "kernelId": "545a0061-29af-4a81-ba90-de9e5e4524e9",
     "source_hidden": false
    }
   },
   "outputs": [
    {
     "ename": "NameError",
     "evalue": "name 'x_train' is not defined",
     "output_type": "error",
     "traceback": [
      "\u001b[0;31m---------------------------------------------------------------------------\u001b[0m",
      "\u001b[0;31mNameError\u001b[0m                                 Traceback (most recent call last)",
      "\u001b[0;32m/tmp/ipykernel_756/691164821.py\u001b[0m in \u001b[0;36m<module>\u001b[0;34m\u001b[0m\n\u001b[0;32m----> 1\u001b[0;31m \u001b[0mrf_search\u001b[0m\u001b[0;34m.\u001b[0m\u001b[0mfit\u001b[0m\u001b[0;34m(\u001b[0m\u001b[0mx_train\u001b[0m\u001b[0;34m,\u001b[0m \u001b[0my_train\u001b[0m\u001b[0;34m)\u001b[0m\u001b[0;34m\u001b[0m\u001b[0;34m\u001b[0m\u001b[0m\n\u001b[0m\u001b[1;32m      2\u001b[0m \u001b[0;34m\u001b[0m\u001b[0m\n\u001b[1;32m      3\u001b[0m save_model(\n\u001b[1;32m      4\u001b[0m     \u001b[0mmodel\u001b[0m\u001b[0;34m=\u001b[0m\u001b[0mrf_search\u001b[0m\u001b[0;34m,\u001b[0m\u001b[0;34m\u001b[0m\u001b[0;34m\u001b[0m\u001b[0m\n\u001b[1;32m      5\u001b[0m     \u001b[0malgorithm\u001b[0m\u001b[0;34m=\u001b[0m\u001b[0;34m'random_forest'\u001b[0m\u001b[0;34m,\u001b[0m\u001b[0;34m\u001b[0m\u001b[0;34m\u001b[0m\u001b[0m\n",
      "\u001b[0;31mNameError\u001b[0m: name 'x_train' is not defined"
     ]
    }
   ],
   "source": [
    "rf_search.fit(x_train, y_train)\r\n",
    "\r\n",
    "save_model(\r\n",
    "    model=rf_search,\r\n",
    "    algorithm='random_forest',\r\n",
    "    experiment='grid_search_results'\r\n",
    ")"
   ]
  },
  {
   "cell_type": "code",
   "execution_count": null,
   "id": "44edfd07-82bf-4174-987c-307b82a415af",
   "metadata": {
    "collapsed": false,
    "gradient": {
     "editing": false,
     "id": "44edfd07-82bf-4174-987c-307b82a415af",
     "kernelId": "545a0061-29af-4a81-ba90-de9e5e4524e9",
     "source_hidden": false
    }
   },
   "outputs": [
    {
     "name": "stdout",
     "output_type": "stream",
     "text": [
      "Fitting 5 folds for each of 6 candidates, totalling 30 fits\n"
     ]
    },
    {
     "name": "stdout",
     "output_type": "stream",
     "text": [
      "Saving Model:\t{str(path)}\n"
     ]
    }
   ],
   "source": [
    "svm_search.fit(x_train, y_train)\r\n",
    "\r\n",
    "save_model(\r\n",
    "    model=svm_search,\r\n",
    "    algorithm='support_vector_machine',\r\n",
    "    experiment='grid_search_results'\r\n",
    ")"
   ]
  },
  {
   "cell_type": "code",
   "execution_count": null,
   "id": "b25844a3-34b2-44c9-8b1d-75744d9ad46e",
   "metadata": {
    "collapsed": false,
    "gradient": {
     "editing": true,
     "id": "b25844a3-34b2-44c9-8b1d-75744d9ad46e",
     "kernelId": "545a0061-29af-4a81-ba90-de9e5e4524e9",
     "source_hidden": false
    }
   },
   "outputs": [
    {
     "data": {
      "text/plain": [
       "Pipeline(steps=[('scalar', StandardScaler()),\n",
       "                ('vclf',\n",
       "                 VotingClassifier(estimators=[('rf',\n",
       "                                               RandomForestClassifier(bootstrap=False,\n",
       "                                                                      max_depth=70,\n",
       "                                                                      max_features='sqrt',\n",
       "                                                                      min_samples_leaf=5,\n",
       "                                                                      min_samples_split=5,\n",
       "                                                                      n_estimators=300)),\n",
       "                                              ('mlr',\n",
       "                                               LogisticRegression(C=10,\n",
       "                                                                  multi_class='multinomial',\n",
       "                                                                  penalty='l1',\n",
       "                                                                  solver='saga')),\n",
       "                                              ('svc', SVC(C=1, gamma='auto'))],\n",
       "                                  n_jobs=-1, voting='soft'))])"
      ]
     },
     "execution_count": 12,
     "metadata": {},
     "output_type": "execute_result"
    }
   ],
   "source": [
    "vclf_pipe.fit(x_train, y_train)"
   ]
  },
  {
   "cell_type": "code",
   "execution_count": null,
   "id": "a5ebbf56-79c4-4898-9dc7-1588ef149afd",
   "metadata": {
    "collapsed": false,
    "gradient": {
     "editing": false,
     "id": "a5ebbf56-79c4-4898-9dc7-1588ef149afd",
     "kernelId": "545a0061-29af-4a81-ba90-de9e5e4524e9",
     "source_hidden": false
    }
   },
   "outputs": [
    {
     "ename": "AttributeError",
     "evalue": "predict_proba is not available when  probability=False",
     "output_type": "error",
     "traceback": [
      "\u001b[0;31m---------------------------------------------------------------------------\u001b[0m",
      "\u001b[0;31mAttributeError\u001b[0m                            Traceback (most recent call last)",
      "\u001b[0;32m/tmp/ipykernel_69/1995741711.py\u001b[0m in \u001b[0;36m<module>\u001b[0;34m\u001b[0m\n\u001b[0;32m----> 1\u001b[0;31m \u001b[0mvclf_pipe\u001b[0m\u001b[0;34m.\u001b[0m\u001b[0mscore\u001b[0m\u001b[0;34m(\u001b[0m\u001b[0mx_test\u001b[0m\u001b[0;34m,\u001b[0m \u001b[0my_test\u001b[0m\u001b[0;34m)\u001b[0m\u001b[0;34m\u001b[0m\u001b[0;34m\u001b[0m\u001b[0m\n\u001b[0m",
      "\u001b[0;32m/usr/local/lib/python3.8/dist-packages/sklearn/utils/metaestimators.py\u001b[0m in \u001b[0;36m<lambda>\u001b[0;34m(*args, **kwargs)\u001b[0m\n\u001b[1;32m    111\u001b[0m \u001b[0;34m\u001b[0m\u001b[0m\n\u001b[1;32m    112\u001b[0m             \u001b[0;31m# lambda, but not partial, allows help() to work with update_wrapper\u001b[0m\u001b[0;34m\u001b[0m\u001b[0;34m\u001b[0m\u001b[0;34m\u001b[0m\u001b[0m\n\u001b[0;32m--> 113\u001b[0;31m             \u001b[0mout\u001b[0m \u001b[0;34m=\u001b[0m \u001b[0;32mlambda\u001b[0m \u001b[0;34m*\u001b[0m\u001b[0margs\u001b[0m\u001b[0;34m,\u001b[0m \u001b[0;34m**\u001b[0m\u001b[0mkwargs\u001b[0m\u001b[0;34m:\u001b[0m \u001b[0mself\u001b[0m\u001b[0;34m.\u001b[0m\u001b[0mfn\u001b[0m\u001b[0;34m(\u001b[0m\u001b[0mobj\u001b[0m\u001b[0;34m,\u001b[0m \u001b[0;34m*\u001b[0m\u001b[0margs\u001b[0m\u001b[0;34m,\u001b[0m \u001b[0;34m**\u001b[0m\u001b[0mkwargs\u001b[0m\u001b[0;34m)\u001b[0m  \u001b[0;31m# noqa\u001b[0m\u001b[0;34m\u001b[0m\u001b[0;34m\u001b[0m\u001b[0m\n\u001b[0m\u001b[1;32m    114\u001b[0m         \u001b[0;32melse\u001b[0m\u001b[0;34m:\u001b[0m\u001b[0;34m\u001b[0m\u001b[0;34m\u001b[0m\u001b[0m\n\u001b[1;32m    115\u001b[0m \u001b[0;34m\u001b[0m\u001b[0m\n",
      "\u001b[0;32m/usr/local/lib/python3.8/dist-packages/sklearn/pipeline.py\u001b[0m in \u001b[0;36mscore\u001b[0;34m(self, X, y, sample_weight)\u001b[0m\n\u001b[1;32m    709\u001b[0m         \u001b[0;32mif\u001b[0m \u001b[0msample_weight\u001b[0m \u001b[0;32mis\u001b[0m \u001b[0;32mnot\u001b[0m \u001b[0;32mNone\u001b[0m\u001b[0;34m:\u001b[0m\u001b[0;34m\u001b[0m\u001b[0;34m\u001b[0m\u001b[0m\n\u001b[1;32m    710\u001b[0m             \u001b[0mscore_params\u001b[0m\u001b[0;34m[\u001b[0m\u001b[0;34m\"sample_weight\"\u001b[0m\u001b[0;34m]\u001b[0m \u001b[0;34m=\u001b[0m \u001b[0msample_weight\u001b[0m\u001b[0;34m\u001b[0m\u001b[0;34m\u001b[0m\u001b[0m\n\u001b[0;32m--> 711\u001b[0;31m         \u001b[0;32mreturn\u001b[0m \u001b[0mself\u001b[0m\u001b[0;34m.\u001b[0m\u001b[0msteps\u001b[0m\u001b[0;34m[\u001b[0m\u001b[0;34m-\u001b[0m\u001b[0;36m1\u001b[0m\u001b[0;34m]\u001b[0m\u001b[0;34m[\u001b[0m\u001b[0;36m1\u001b[0m\u001b[0;34m]\u001b[0m\u001b[0;34m.\u001b[0m\u001b[0mscore\u001b[0m\u001b[0;34m(\u001b[0m\u001b[0mXt\u001b[0m\u001b[0;34m,\u001b[0m \u001b[0my\u001b[0m\u001b[0;34m,\u001b[0m \u001b[0;34m**\u001b[0m\u001b[0mscore_params\u001b[0m\u001b[0;34m)\u001b[0m\u001b[0;34m\u001b[0m\u001b[0;34m\u001b[0m\u001b[0m\n\u001b[0m\u001b[1;32m    712\u001b[0m \u001b[0;34m\u001b[0m\u001b[0m\n\u001b[1;32m    713\u001b[0m     \u001b[0;34m@\u001b[0m\u001b[0mproperty\u001b[0m\u001b[0;34m\u001b[0m\u001b[0;34m\u001b[0m\u001b[0m\n",
      "\u001b[0;32m/usr/local/lib/python3.8/dist-packages/sklearn/base.py\u001b[0m in \u001b[0;36mscore\u001b[0;34m(self, X, y, sample_weight)\u001b[0m\n\u001b[1;32m    644\u001b[0m         \u001b[0;32mfrom\u001b[0m \u001b[0;34m.\u001b[0m\u001b[0mmetrics\u001b[0m \u001b[0;32mimport\u001b[0m \u001b[0maccuracy_score\u001b[0m\u001b[0;34m\u001b[0m\u001b[0;34m\u001b[0m\u001b[0m\n\u001b[1;32m    645\u001b[0m \u001b[0;34m\u001b[0m\u001b[0m\n\u001b[0;32m--> 646\u001b[0;31m         \u001b[0;32mreturn\u001b[0m \u001b[0maccuracy_score\u001b[0m\u001b[0;34m(\u001b[0m\u001b[0my\u001b[0m\u001b[0;34m,\u001b[0m \u001b[0mself\u001b[0m\u001b[0;34m.\u001b[0m\u001b[0mpredict\u001b[0m\u001b[0;34m(\u001b[0m\u001b[0mX\u001b[0m\u001b[0;34m)\u001b[0m\u001b[0;34m,\u001b[0m \u001b[0msample_weight\u001b[0m\u001b[0;34m=\u001b[0m\u001b[0msample_weight\u001b[0m\u001b[0;34m)\u001b[0m\u001b[0;34m\u001b[0m\u001b[0;34m\u001b[0m\u001b[0m\n\u001b[0m\u001b[1;32m    647\u001b[0m \u001b[0;34m\u001b[0m\u001b[0m\n\u001b[1;32m    648\u001b[0m     \u001b[0;32mdef\u001b[0m \u001b[0m_more_tags\u001b[0m\u001b[0;34m(\u001b[0m\u001b[0mself\u001b[0m\u001b[0;34m)\u001b[0m\u001b[0;34m:\u001b[0m\u001b[0;34m\u001b[0m\u001b[0;34m\u001b[0m\u001b[0m\n",
      "\u001b[0;32m/usr/local/lib/python3.8/dist-packages/sklearn/ensemble/_voting.py\u001b[0m in \u001b[0;36mpredict\u001b[0;34m(self, X)\u001b[0m\n\u001b[1;32m    339\u001b[0m         \u001b[0mcheck_is_fitted\u001b[0m\u001b[0;34m(\u001b[0m\u001b[0mself\u001b[0m\u001b[0;34m)\u001b[0m\u001b[0;34m\u001b[0m\u001b[0;34m\u001b[0m\u001b[0m\n\u001b[1;32m    340\u001b[0m         \u001b[0;32mif\u001b[0m \u001b[0mself\u001b[0m\u001b[0;34m.\u001b[0m\u001b[0mvoting\u001b[0m \u001b[0;34m==\u001b[0m \u001b[0;34m\"soft\"\u001b[0m\u001b[0;34m:\u001b[0m\u001b[0;34m\u001b[0m\u001b[0;34m\u001b[0m\u001b[0m\n\u001b[0;32m--> 341\u001b[0;31m             \u001b[0mmaj\u001b[0m \u001b[0;34m=\u001b[0m \u001b[0mnp\u001b[0m\u001b[0;34m.\u001b[0m\u001b[0margmax\u001b[0m\u001b[0;34m(\u001b[0m\u001b[0mself\u001b[0m\u001b[0;34m.\u001b[0m\u001b[0mpredict_proba\u001b[0m\u001b[0;34m(\u001b[0m\u001b[0mX\u001b[0m\u001b[0;34m)\u001b[0m\u001b[0;34m,\u001b[0m \u001b[0maxis\u001b[0m\u001b[0;34m=\u001b[0m\u001b[0;36m1\u001b[0m\u001b[0;34m)\u001b[0m\u001b[0;34m\u001b[0m\u001b[0;34m\u001b[0m\u001b[0m\n\u001b[0m\u001b[1;32m    342\u001b[0m \u001b[0;34m\u001b[0m\u001b[0m\n\u001b[1;32m    343\u001b[0m         \u001b[0;32melse\u001b[0m\u001b[0;34m:\u001b[0m  \u001b[0;31m# 'hard' voting\u001b[0m\u001b[0;34m\u001b[0m\u001b[0;34m\u001b[0m\u001b[0m\n",
      "\u001b[0;32m/usr/local/lib/python3.8/dist-packages/sklearn/utils/metaestimators.py\u001b[0m in \u001b[0;36m<lambda>\u001b[0;34m(*args, **kwargs)\u001b[0m\n\u001b[1;32m    111\u001b[0m \u001b[0;34m\u001b[0m\u001b[0m\n\u001b[1;32m    112\u001b[0m             \u001b[0;31m# lambda, but not partial, allows help() to work with update_wrapper\u001b[0m\u001b[0;34m\u001b[0m\u001b[0;34m\u001b[0m\u001b[0;34m\u001b[0m\u001b[0m\n\u001b[0;32m--> 113\u001b[0;31m             \u001b[0mout\u001b[0m \u001b[0;34m=\u001b[0m \u001b[0;32mlambda\u001b[0m \u001b[0;34m*\u001b[0m\u001b[0margs\u001b[0m\u001b[0;34m,\u001b[0m \u001b[0;34m**\u001b[0m\u001b[0mkwargs\u001b[0m\u001b[0;34m:\u001b[0m \u001b[0mself\u001b[0m\u001b[0;34m.\u001b[0m\u001b[0mfn\u001b[0m\u001b[0;34m(\u001b[0m\u001b[0mobj\u001b[0m\u001b[0;34m,\u001b[0m \u001b[0;34m*\u001b[0m\u001b[0margs\u001b[0m\u001b[0;34m,\u001b[0m \u001b[0;34m**\u001b[0m\u001b[0mkwargs\u001b[0m\u001b[0;34m)\u001b[0m  \u001b[0;31m# noqa\u001b[0m\u001b[0;34m\u001b[0m\u001b[0;34m\u001b[0m\u001b[0m\n\u001b[0m\u001b[1;32m    114\u001b[0m         \u001b[0;32melse\u001b[0m\u001b[0;34m:\u001b[0m\u001b[0;34m\u001b[0m\u001b[0;34m\u001b[0m\u001b[0m\n\u001b[1;32m    115\u001b[0m \u001b[0;34m\u001b[0m\u001b[0m\n",
      "\u001b[0;32m/usr/local/lib/python3.8/dist-packages/sklearn/ensemble/_voting.py\u001b[0m in \u001b[0;36mpredict_proba\u001b[0;34m(self, X)\u001b[0m\n\u001b[1;32m    380\u001b[0m         \u001b[0mcheck_is_fitted\u001b[0m\u001b[0;34m(\u001b[0m\u001b[0mself\u001b[0m\u001b[0;34m)\u001b[0m\u001b[0;34m\u001b[0m\u001b[0;34m\u001b[0m\u001b[0m\n\u001b[1;32m    381\u001b[0m         avg = np.average(\n\u001b[0;32m--> 382\u001b[0;31m             \u001b[0mself\u001b[0m\u001b[0;34m.\u001b[0m\u001b[0m_collect_probas\u001b[0m\u001b[0;34m(\u001b[0m\u001b[0mX\u001b[0m\u001b[0;34m)\u001b[0m\u001b[0;34m,\u001b[0m \u001b[0maxis\u001b[0m\u001b[0;34m=\u001b[0m\u001b[0;36m0\u001b[0m\u001b[0;34m,\u001b[0m \u001b[0mweights\u001b[0m\u001b[0;34m=\u001b[0m\u001b[0mself\u001b[0m\u001b[0;34m.\u001b[0m\u001b[0m_weights_not_none\u001b[0m\u001b[0;34m\u001b[0m\u001b[0;34m\u001b[0m\u001b[0m\n\u001b[0m\u001b[1;32m    383\u001b[0m         )\n\u001b[1;32m    384\u001b[0m         \u001b[0;32mreturn\u001b[0m \u001b[0mavg\u001b[0m\u001b[0;34m\u001b[0m\u001b[0;34m\u001b[0m\u001b[0m\n",
      "\u001b[0;32m/usr/local/lib/python3.8/dist-packages/sklearn/ensemble/_voting.py\u001b[0m in \u001b[0;36m_collect_probas\u001b[0;34m(self, X)\u001b[0m\n\u001b[1;32m    355\u001b[0m     \u001b[0;32mdef\u001b[0m \u001b[0m_collect_probas\u001b[0m\u001b[0;34m(\u001b[0m\u001b[0mself\u001b[0m\u001b[0;34m,\u001b[0m \u001b[0mX\u001b[0m\u001b[0;34m)\u001b[0m\u001b[0;34m:\u001b[0m\u001b[0;34m\u001b[0m\u001b[0;34m\u001b[0m\u001b[0m\n\u001b[1;32m    356\u001b[0m         \u001b[0;34m\"\"\"Collect results from clf.predict calls.\"\"\"\u001b[0m\u001b[0;34m\u001b[0m\u001b[0;34m\u001b[0m\u001b[0m\n\u001b[0;32m--> 357\u001b[0;31m         \u001b[0;32mreturn\u001b[0m \u001b[0mnp\u001b[0m\u001b[0;34m.\u001b[0m\u001b[0masarray\u001b[0m\u001b[0;34m(\u001b[0m\u001b[0;34m[\u001b[0m\u001b[0mclf\u001b[0m\u001b[0;34m.\u001b[0m\u001b[0mpredict_proba\u001b[0m\u001b[0;34m(\u001b[0m\u001b[0mX\u001b[0m\u001b[0;34m)\u001b[0m \u001b[0;32mfor\u001b[0m \u001b[0mclf\u001b[0m \u001b[0;32min\u001b[0m \u001b[0mself\u001b[0m\u001b[0;34m.\u001b[0m\u001b[0mestimators_\u001b[0m\u001b[0;34m]\u001b[0m\u001b[0;34m)\u001b[0m\u001b[0;34m\u001b[0m\u001b[0;34m\u001b[0m\u001b[0m\n\u001b[0m\u001b[1;32m    358\u001b[0m \u001b[0;34m\u001b[0m\u001b[0m\n\u001b[1;32m    359\u001b[0m     \u001b[0;32mdef\u001b[0m \u001b[0m_check_voting\u001b[0m\u001b[0;34m(\u001b[0m\u001b[0mself\u001b[0m\u001b[0;34m)\u001b[0m\u001b[0;34m:\u001b[0m\u001b[0;34m\u001b[0m\u001b[0;34m\u001b[0m\u001b[0m\n",
      "\u001b[0;32m/usr/local/lib/python3.8/dist-packages/sklearn/ensemble/_voting.py\u001b[0m in \u001b[0;36m<listcomp>\u001b[0;34m(.0)\u001b[0m\n\u001b[1;32m    355\u001b[0m     \u001b[0;32mdef\u001b[0m \u001b[0m_collect_probas\u001b[0m\u001b[0;34m(\u001b[0m\u001b[0mself\u001b[0m\u001b[0;34m,\u001b[0m \u001b[0mX\u001b[0m\u001b[0;34m)\u001b[0m\u001b[0;34m:\u001b[0m\u001b[0;34m\u001b[0m\u001b[0;34m\u001b[0m\u001b[0m\n\u001b[1;32m    356\u001b[0m         \u001b[0;34m\"\"\"Collect results from clf.predict calls.\"\"\"\u001b[0m\u001b[0;34m\u001b[0m\u001b[0;34m\u001b[0m\u001b[0m\n\u001b[0;32m--> 357\u001b[0;31m         \u001b[0;32mreturn\u001b[0m \u001b[0mnp\u001b[0m\u001b[0;34m.\u001b[0m\u001b[0masarray\u001b[0m\u001b[0;34m(\u001b[0m\u001b[0;34m[\u001b[0m\u001b[0mclf\u001b[0m\u001b[0;34m.\u001b[0m\u001b[0mpredict_proba\u001b[0m\u001b[0;34m(\u001b[0m\u001b[0mX\u001b[0m\u001b[0;34m)\u001b[0m \u001b[0;32mfor\u001b[0m \u001b[0mclf\u001b[0m \u001b[0;32min\u001b[0m \u001b[0mself\u001b[0m\u001b[0;34m.\u001b[0m\u001b[0mestimators_\u001b[0m\u001b[0;34m]\u001b[0m\u001b[0;34m)\u001b[0m\u001b[0;34m\u001b[0m\u001b[0;34m\u001b[0m\u001b[0m\n\u001b[0m\u001b[1;32m    358\u001b[0m \u001b[0;34m\u001b[0m\u001b[0m\n\u001b[1;32m    359\u001b[0m     \u001b[0;32mdef\u001b[0m \u001b[0m_check_voting\u001b[0m\u001b[0;34m(\u001b[0m\u001b[0mself\u001b[0m\u001b[0;34m)\u001b[0m\u001b[0;34m:\u001b[0m\u001b[0;34m\u001b[0m\u001b[0;34m\u001b[0m\u001b[0m\n",
      "\u001b[0;32m/usr/local/lib/python3.8/dist-packages/sklearn/utils/metaestimators.py\u001b[0m in \u001b[0;36m__get__\u001b[0;34m(self, obj, owner)\u001b[0m\n\u001b[1;32m    107\u001b[0m             \u001b[0;31m# delegate only on instances, not the classes.\u001b[0m\u001b[0;34m\u001b[0m\u001b[0;34m\u001b[0m\u001b[0;34m\u001b[0m\u001b[0m\n\u001b[1;32m    108\u001b[0m             \u001b[0;31m# this is to allow access to the docstrings.\u001b[0m\u001b[0;34m\u001b[0m\u001b[0;34m\u001b[0m\u001b[0;34m\u001b[0m\u001b[0m\n\u001b[0;32m--> 109\u001b[0;31m             \u001b[0;32mif\u001b[0m \u001b[0;32mnot\u001b[0m \u001b[0mself\u001b[0m\u001b[0;34m.\u001b[0m\u001b[0mcheck\u001b[0m\u001b[0;34m(\u001b[0m\u001b[0mobj\u001b[0m\u001b[0;34m)\u001b[0m\u001b[0;34m:\u001b[0m\u001b[0;34m\u001b[0m\u001b[0;34m\u001b[0m\u001b[0m\n\u001b[0m\u001b[1;32m    110\u001b[0m                 \u001b[0;32mraise\u001b[0m \u001b[0mattr_err\u001b[0m\u001b[0;34m\u001b[0m\u001b[0;34m\u001b[0m\u001b[0m\n\u001b[1;32m    111\u001b[0m \u001b[0;34m\u001b[0m\u001b[0m\n",
      "\u001b[0;32m/usr/local/lib/python3.8/dist-packages/sklearn/svm/_base.py\u001b[0m in \u001b[0;36m_check_proba\u001b[0;34m(self)\u001b[0m\n\u001b[1;32m    798\u001b[0m     \u001b[0;32mdef\u001b[0m \u001b[0m_check_proba\u001b[0m\u001b[0;34m(\u001b[0m\u001b[0mself\u001b[0m\u001b[0;34m)\u001b[0m\u001b[0;34m:\u001b[0m\u001b[0;34m\u001b[0m\u001b[0;34m\u001b[0m\u001b[0m\n\u001b[1;32m    799\u001b[0m         \u001b[0;32mif\u001b[0m \u001b[0;32mnot\u001b[0m \u001b[0mself\u001b[0m\u001b[0;34m.\u001b[0m\u001b[0mprobability\u001b[0m\u001b[0;34m:\u001b[0m\u001b[0;34m\u001b[0m\u001b[0;34m\u001b[0m\u001b[0m\n\u001b[0;32m--> 800\u001b[0;31m             raise AttributeError(\n\u001b[0m\u001b[1;32m    801\u001b[0m                 \u001b[0;34m\"predict_proba is not available when  probability=False\"\u001b[0m\u001b[0;34m\u001b[0m\u001b[0;34m\u001b[0m\u001b[0m\n\u001b[1;32m    802\u001b[0m             )\n",
      "\u001b[0;31mAttributeError\u001b[0m: predict_proba is not available when  probability=False"
     ]
    },
    {
     "name": "stdout",
     "output_type": "stream",
     "text": [
      "[CV 1/5; 1/4] START mnb__alpha=0................................................\n",
      "[CV 1/5; 1/4] END ...................mnb__alpha=0;, score=nan total time=   0.0s\n",
      "[CV 2/5; 2/4] START mnb__alpha=0.1..............................................\n",
      "[CV 2/5; 2/4] END .................mnb__alpha=0.1;, score=nan total time=   0.0s\n",
      "[CV 3/5; 2/4] START mnb__alpha=0.1..............................................\n",
      "[CV 3/5; 2/4] END .................mnb__alpha=0.1;, score=nan total time=   0.0s\n",
      "[CV 2/5; 3/4] START mnb__alpha=1................................................\n",
      "[CV 2/5; 3/4] END ...................mnb__alpha=1;, score=nan total time=   0.0s\n",
      "[CV 4/5; 4/4] START mnb__alpha=5................................................\n",
      "[CV 4/5; 4/4] END ...................mnb__alpha=5;, score=nan total time=   0.0s\n",
      "[CV 2/5; 1/4] START mnb__alpha=0................................................\n",
      "[CV 2/5; 1/4] END ...................mnb__alpha=0;, score=nan total time=   0.0s\n",
      "[CV 5/5; 2/4] START mnb__alpha=0.1..............................................\n",
      "[CV 5/5; 2/4] END .................mnb__alpha=0.1;, score=nan total time=   0.0s\n",
      "[CV 4/5; 3/4] START mnb__alpha=1................................................\n",
      "[CV 4/5; 3/4] END ...................mnb__alpha=1;, score=nan total time=   0.0s\n",
      "[CV 5/5; 4/4] START mnb__alpha=5................................................\n",
      "[CV 5/5; 4/4] END ...................mnb__alpha=5;, score=nan total time=   0.0s\n",
      "[CV 4/5; 1/4] START mnb__alpha=0................................................\n",
      "[CV 4/5; 1/4] END ...................mnb__alpha=0;, score=nan total time=   0.0s\n",
      "[CV 4/5; 2/4] START mnb__alpha=0.1..............................................\n",
      "[CV 4/5; 2/4] END .................mnb__alpha=0.1;, score=nan total time=   0.0s\n",
      "[CV 3/5; 3/4] START mnb__alpha=1................................................\n",
      "[CV 3/5; 3/4] END ...................mnb__alpha=1;, score=nan total time=   0.0s\n",
      "[CV 3/5; 4/4] START mnb__alpha=5................................................\n",
      "[CV 3/5; 4/4] END ...................mnb__alpha=5;, score=nan total time=   0.0s\n"
     ]
    },
    {
     "name": "stdout",
     "output_type": "stream",
     "text": [
      "[CV 3/5; 1/4] START mnb__alpha=0................................................\n",
      "[CV 3/5; 1/4] END ...................mnb__alpha=0;, score=nan total time=   0.0s\n",
      "[CV 1/5; 3/4] START mnb__alpha=1................................................\n",
      "[CV 1/5; 3/4] END ...................mnb__alpha=1;, score=nan total time=   0.0s\n",
      "[CV 5/5; 3/4] START mnb__alpha=1................................................\n",
      "[CV 5/5; 3/4] END ...................mnb__alpha=1;, score=nan total time=   0.0s\n",
      "[CV 5/5; 1/4] START mnb__alpha=0................................................\n",
      "[CV 5/5; 1/4] END ...................mnb__alpha=0;, score=nan total time=   0.0s\n",
      "[CV 2/5; 4/4] START mnb__alpha=5................................................\n",
      "[CV 2/5; 4/4] END ...................mnb__alpha=5;, score=nan total time=   0.0s\n"
     ]
    }
   ],
   "source": [
    "vclf_pipe.score(x_test, y_test)"
   ]
  }
 ],
 "metadata": {},
 "nbformat": 4,
 "nbformat_minor": 5
}
