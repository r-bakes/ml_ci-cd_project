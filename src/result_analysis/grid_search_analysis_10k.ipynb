{
 "cells": [
  {
   "cell_type": "code",
   "execution_count": null,
   "id": "0eaa8a0f-fb6f-4661-a36e-7c2517da2490",
   "metadata": {
    "collapsed": false,
    "gradient": {
     "editing": false,
     "id": "0eaa8a0f-fb6f-4661-a36e-7c2517da2490",
     "kernelId": "41f0d700-da4a-4b35-99db-9f5ecff83d5d",
     "source_hidden": false
    }
   },
   "outputs": [],
   "source": [
    "from sklearn.linear_model import LogisticRegression\r\n",
    "from sklearn.ensemble import RandomForestClassifier\r\n",
    "from sklearn.preprocessing import StandardScaler\r\n",
    "from sklearn.model_selection import train_test_split\r\n",
    "from sklearn.pipeline import Pipeline\r\n",
    "from sklearn.model_selection import GridSearchCV\r\n",
    "\r\n",
    "import matplotlib.pyplot as plt\r\n",
    "from datetime import datetime\r\n",
    "\r\n",
    "import os\r\n",
    "import joblib\r\n",
    "import pandas as pd\r\n",
    "\r\n",
    "def print_scores(search):\r\n",
    "    print(f\"Score:\\t{round(search.best_score_, 3)*100}\\n\\nParamters:\\t{search.best_estimator_[1]}\")"
   ]
  },
  {
   "cell_type": "code",
   "execution_count": null,
   "id": "1ba44893-1086-495f-8c9c-381a474040d9",
   "metadata": {
    "collapsed": false,
    "gradient": {
     "editing": false,
     "id": "1ba44893-1086-495f-8c9c-381a474040d9",
     "kernelId": "41f0d700-da4a-4b35-99db-9f5ecff83d5d",
     "source_hidden": false
    }
   },
   "outputs": [],
   "source": [
    "mlr_path = os.path.join(\r\n",
    "    os.path.dirname(os.path.dirname(os.getcwd())),\r\n",
    "    'models',\r\n",
    "    'genre_classification',\r\n",
    "    'multinomial_logistic_regression',\r\n",
    "    'grid_search_results_2021-11-29_multinomial_logistic_regression.pkl')\r\n",
    "\r\n",
    "rf_path = os.path.join(\r\n",
    "    os.path.dirname(os.path.dirname(os.getcwd())),\r\n",
    "    'models',\r\n",
    "    'genre_classification',\r\n",
    "    'random_forest',\r\n",
    "    'grid_search_results_2021-11-29_random_forest.pkl')\r\n",
    "\r\n",
    "svm_path = os.path.join(\r\n",
    "    os.path.dirname(os.path.dirname(os.getcwd())),\r\n",
    "    'models',\r\n",
    "    'genre_classification',\r\n",
    "    'support_vector_machine',\r\n",
    "    'grid_search_results_2021-12-04_support_vector_machine.pkl')\r\n",
    "\r\n",
    "rf_search = joblib.load(rf_path)\r\n",
    "mlr_search = joblib.load(mlr_path)\r\n",
    "svm_search = joblib.load(svm_path)"
   ]
  },
  {
   "cell_type": "code",
   "execution_count": null,
   "id": "05afd497-b2aa-4926-a46a-25deb04994f6",
   "metadata": {
    "collapsed": false,
    "gradient": {
     "editing": false,
     "id": "05afd497-b2aa-4926-a46a-25deb04994f6",
     "kernelId": "41f0d700-da4a-4b35-99db-9f5ecff83d5d",
     "source_hidden": false
    }
   },
   "outputs": [
    {
     "name": "stdout",
     "output_type": "stream",
     "text": [
      "Score:\t47.099999999999994\n",
      "\n",
      "Paramters:\tRandomForestClassifier(bootstrap=False, max_depth=70, max_features='sqrt',\n",
      "                       min_samples_leaf=5, min_samples_split=5,\n",
      "                       n_estimators=300)\n"
     ]
    }
   ],
   "source": [
    "print_scores(rf_search)"
   ]
  },
  {
   "cell_type": "code",
   "execution_count": null,
   "id": "48b1b4f6-f7c6-40dd-a1f9-de1eae65bb08",
   "metadata": {
    "collapsed": false,
    "gradient": {
     "editing": false,
     "id": "48b1b4f6-f7c6-40dd-a1f9-de1eae65bb08",
     "kernelId": "41f0d700-da4a-4b35-99db-9f5ecff83d5d",
     "source_hidden": false
    }
   },
   "outputs": [
    {
     "name": "stdout",
     "output_type": "stream",
     "text": [
      "Score:\t42.8\n",
      "\n",
      "Paramters:\tLogisticRegression(C=10, multi_class='multinomial', penalty='l1', solver='saga')\n"
     ]
    }
   ],
   "source": [
    "print_scores(mlr_search)"
   ]
  },
  {
   "cell_type": "code",
   "execution_count": null,
   "id": "6ec08287-647d-4e1f-95d1-8ea526f75c4a",
   "metadata": {
    "collapsed": false,
    "gradient": {
     "editing": false,
     "id": "6ec08287-647d-4e1f-95d1-8ea526f75c4a",
     "kernelId": "41f0d700-da4a-4b35-99db-9f5ecff83d5d",
     "source_hidden": false
    }
   },
   "outputs": [
    {
     "name": "stdout",
     "output_type": "stream",
     "text": [
      "Score:\t44.6\n",
      "\n",
      "Paramters:\tSVC(C=1, gamma='auto')\n"
     ]
    }
   ],
   "source": [
    "print_scores(svm_search)"
   ]
  },
  {
   "cell_type": "code",
   "execution_count": null,
   "id": "ff9e49d5-5b75-484a-9be5-1c5baa1f1527",
   "metadata": {
    "collapsed": false,
    "gradient": {
     "editing": false,
     "id": "ff9e49d5-5b75-484a-9be5-1c5baa1f1527",
     "kernelId": "41f0d700-da4a-4b35-99db-9f5ecff83d5d",
     "source_hidden": false
    }
   },
   "outputs": [],
   "source": [
    "rf_df = pd.DataFrame(rf_search.cv_results_)\r\n",
    "mlr_df = pd.DataFrame(mlr_search.cv_results_)"
   ]
  },
  {
   "cell_type": "code",
   "execution_count": null,
   "id": "05f12194-0ec5-4674-9fc8-5ccbdaa27f0f",
   "metadata": {
    "collapsed": false,
    "gradient": {
     "editing": false,
     "id": "05f12194-0ec5-4674-9fc8-5ccbdaa27f0f",
     "kernelId": "41f0d700-da4a-4b35-99db-9f5ecff83d5d",
     "source_hidden": false
    }
   },
   "outputs": [
    {
     "data": {
      "text/plain": [
       "<AxesSubplot:xlabel='param_rf__n_estimators'>"
      ]
     },
     "execution_count": 22,
     "metadata": {},
     "output_type": "execute_result"
    },
    {
     "data": {
      "image/png": "[encoded data removed]",
      "text/plain": [
       "<Figure size 432x288 with 1 Axes>"
      ]
     },
     "metadata": {
      "needs_background": "light"
     },
     "output_type": "display_data",
     "transient": {}
    }
   ],
   "source": [
    "rf_df.plot(x='param_rf__n_estimators', y='mean_test_score', kind='bar')"
   ]
  },
  {
   "cell_type": "code",
   "execution_count": null,
   "id": "1967397b-971a-4bfe-aab6-650686a11134",
   "metadata": {
    "collapsed": false,
    "gradient": {
     "editing": false,
     "id": "1967397b-971a-4bfe-aab6-650686a11134",
     "kernelId": "41f0d700-da4a-4b35-99db-9f5ecff83d5d",
     "source_hidden": false
    }
   },
   "outputs": [
    {
     "data": {
      "text/html": [
       "<div>\n",
       "<style scoped>\n",
       "    .dataframe tbody tr th:only-of-type {\n",
       "        vertical-align: middle;\n",
       "    }\n",
       "\n",
       "    .dataframe tbody tr th {\n",
       "        vertical-align: top;\n",
       "    }\n",
       "\n",
       "    .dataframe thead th {\n",
       "        text-align: right;\n",
       "    }\n",
       "</style>\n",
       "<table border=\"1\" class=\"dataframe\">\n",
       "  <thead>\n",
       "    <tr style=\"text-align: right;\">\n",
       "      <th></th>\n",
       "      <th>param_rf__n_estimators</th>\n",
       "      <th>mean_test_score</th>\n",
       "    </tr>\n",
       "  </thead>\n",
       "  <tbody>\n",
       "    <tr>\n",
       "      <th>0</th>\n",
       "      <td>100</td>\n",
       "      <td>0.462742</td>\n",
       "    </tr>\n",
       "    <tr>\n",
       "      <th>1</th>\n",
       "      <td>150</td>\n",
       "      <td>0.463421</td>\n",
       "    </tr>\n",
       "    <tr>\n",
       "      <th>2</th>\n",
       "      <td>200</td>\n",
       "      <td>0.463755</td>\n",
       "    </tr>\n",
       "    <tr>\n",
       "      <th>3</th>\n",
       "      <td>250</td>\n",
       "      <td>0.464185</td>\n",
       "    </tr>\n",
       "    <tr>\n",
       "      <th>4</th>\n",
       "      <td>300</td>\n",
       "      <td>0.464202</td>\n",
       "    </tr>\n",
       "    <tr>\n",
       "      <th>5</th>\n",
       "      <td>350</td>\n",
       "      <td>0.464292</td>\n",
       "    </tr>\n",
       "    <tr>\n",
       "      <th>6</th>\n",
       "      <td>400</td>\n",
       "      <td>0.464292</td>\n",
       "    </tr>\n",
       "    <tr>\n",
       "      <th>7</th>\n",
       "      <td>450</td>\n",
       "      <td>0.464497</td>\n",
       "    </tr>\n",
       "  </tbody>\n",
       "</table>\n",
       "</div>"
      ],
      "text/plain": [
       "   param_rf__n_estimators  mean_test_score\n",
       "0                     100         0.462742\n",
       "1                     150         0.463421\n",
       "2                     200         0.463755\n",
       "3                     250         0.464185\n",
       "4                     300         0.464202\n",
       "5                     350         0.464292\n",
       "6                     400         0.464292\n",
       "7                     450         0.464497"
      ]
     },
     "execution_count": 25,
     "metadata": {},
     "output_type": "execute_result"
    }
   ],
   "source": [
    "rf_df.groupby(by='param_rf__n_estimators').mean_test_score.mean().reset_index()"
   ]
  }
 ],
 "metadata": {},
 "nbformat": 4,
 "nbformat_minor": 5
}
